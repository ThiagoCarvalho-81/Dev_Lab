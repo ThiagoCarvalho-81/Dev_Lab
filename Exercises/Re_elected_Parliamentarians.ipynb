{
  "nbformat": 4,
  "nbformat_minor": 0,
  "metadata": {
    "colab": {
      "name": "Re-elected_Parliamentarians.ipynb",
      "provenance": [],
      "collapsed_sections": [
        "_a44ISWoulwE",
        "WMiCb2ffGvmy",
        "zi3QUPUTL_oS",
        "tIVuFTOUNJwc",
        "z5KJveaUPQz2"
      ],
      "include_colab_link": true
    },
    "kernelspec": {
      "name": "python3",
      "display_name": "Python 3"
    }
  },
  "cells": [
    {
      "cell_type": "markdown",
      "metadata": {
        "id": "view-in-github",
        "colab_type": "text"
      },
      "source": [
        "<a href=\"https://colab.research.google.com/github/ThiagoCarvalho-81/Dev_Lab/blob/main/Exercises/Re_elected_Parliamentarians.ipynb\" target=\"_parent\"><img src=\"https://colab.research.google.com/assets/colab-badge.svg\" alt=\"Open In Colab\"/></a>"
      ]
    },
    {
      "cell_type": "markdown",
      "metadata": {
        "id": "3mFpqVN9EuQH"
      },
      "source": [
        "# Brazilian Parliamentarians re-elected\n",
        "\n",
        "Access data from the Brazilian national congress through public API and manipulate the data in order to identify reelected parliamentarians by federative unit.\n",
        "\n",
        "Exercise Goal --> To create a **dict** with the amount of re-elected parliamentarians by ['siglaUf']"
      ]
    },
    {
      "cell_type": "markdown",
      "metadata": {
        "id": "_a44ISWoulwE"
      },
      "source": [
        "#### A) To access the \"Dados Abertos\" API using the **get** method and recover the data as a **dict** using the **json** module"
      ]
    },
    {
      "cell_type": "code",
      "metadata": {
        "id": "vuYwrncGxmgu"
      },
      "source": [
        "import requests"
      ],
      "execution_count": 1,
      "outputs": []
    },
    {
      "cell_type": "code",
      "metadata": {
        "id": "r6FvuCPEESgn"
      },
      "source": [
        "# Brazilian congressmen current elected, listed by name in ascending order\n",
        "URL_current_congressmen = \"https://dadosabertos.camara.leg.br/api/v2/deputados?ordem=ASC&ordenarPor=nome\"\n",
        "response = requests.get(URL_current_congressmen)\n",
        "data_current_congressmen = response.json()"
      ],
      "execution_count": 2,
      "outputs": []
    },
    {
      "cell_type": "code",
      "metadata": {
        "id": "UCncstK1wFqh"
      },
      "source": [
        "# Brazilian congressmen elected on previous election, listed by name in ascending order\n",
        "URL_previous_congressmen = \"https://dadosabertos.camara.leg.br/api/v2/deputados?idLegislatura=55&ordem=ASC&ordenarPor=nome\"\n",
        "response = requests.get(URL_previous_congressmen)\n",
        "data_previous_congressmen = response.json()"
      ],
      "execution_count": 3,
      "outputs": []
    },
    {
      "cell_type": "markdown",
      "metadata": {
        "id": "WMiCb2ffGvmy"
      },
      "source": [
        "#### B) Checking dataset - Current elected"
      ]
    },
    {
      "cell_type": "code",
      "metadata": {
        "colab": {
          "base_uri": "https://localhost:8080/"
        },
        "id": "UikqpOD_0dMq",
        "outputId": "08858471-7cd2-43eb-821b-1a5b3fc68a3f"
      },
      "source": [
        "data_current_congressmen.keys()"
      ],
      "execution_count": 4,
      "outputs": [
        {
          "output_type": "execute_result",
          "data": {
            "text/plain": [
              "dict_keys(['dados', 'links'])"
            ]
          },
          "metadata": {
            "tags": []
          },
          "execution_count": 4
        }
      ]
    },
    {
      "cell_type": "code",
      "metadata": {
        "colab": {
          "base_uri": "https://localhost:8080/"
        },
        "id": "EuY_3RNt0pT6",
        "outputId": "d70b7c82-ce9e-49a9-965c-fe817e30940b"
      },
      "source": [
        "data_current_congressmen['dados'][0]"
      ],
      "execution_count": 5,
      "outputs": [
        {
          "output_type": "execute_result",
          "data": {
            "text/plain": [
              "{'email': 'dep.abiliosantana@camara.leg.br',\n",
              " 'id': 204554,\n",
              " 'idLegislatura': 56,\n",
              " 'nome': 'Abílio Santana',\n",
              " 'siglaPartido': 'PL',\n",
              " 'siglaUf': 'BA',\n",
              " 'uri': 'https://dadosabertos.camara.leg.br/api/v2/deputados/204554',\n",
              " 'uriPartido': 'https://dadosabertos.camara.leg.br/api/v2/partidos/37906',\n",
              " 'urlFoto': 'https://www.camara.leg.br/internet/deputado/bandep/204554.jpg'}"
            ]
          },
          "metadata": {
            "tags": []
          },
          "execution_count": 5
        }
      ]
    },
    {
      "cell_type": "code",
      "metadata": {
        "id": "5ZNqdE8qzWoJ"
      },
      "source": [
        "current_congressmen = data_current_congressmen['dados']"
      ],
      "execution_count": 6,
      "outputs": []
    },
    {
      "cell_type": "code",
      "metadata": {
        "colab": {
          "base_uri": "https://localhost:8080/"
        },
        "id": "UICgJjtpLOJc",
        "outputId": "1079acac-9e18-4d0a-e35e-69b982f9f8d7"
      },
      "source": [
        "print(current_congressmen[0].keys())"
      ],
      "execution_count": 7,
      "outputs": [
        {
          "output_type": "stream",
          "text": [
            "dict_keys(['id', 'uri', 'nome', 'siglaPartido', 'uriPartido', 'siglaUf', 'idLegislatura', 'urlFoto', 'email'])\n"
          ],
          "name": "stdout"
        }
      ]
    },
    {
      "cell_type": "code",
      "metadata": {
        "colab": {
          "base_uri": "https://localhost:8080/"
        },
        "id": "2eoaS-GgF9B1",
        "outputId": "3e475ed1-ee34-4434-a21c-57646143f65b"
      },
      "source": [
        "print(f\"Brazil has { len(current_congressmen) } congressmen.\")"
      ],
      "execution_count": 8,
      "outputs": [
        {
          "output_type": "stream",
          "text": [
            "Brazil has 513 congressmen.\n"
          ],
          "name": "stdout"
        }
      ]
    },
    {
      "cell_type": "code",
      "metadata": {
        "colab": {
          "base_uri": "https://localhost:8080/"
        },
        "id": "_R2DpX5AI-a_",
        "outputId": "cd275f7f-8cda-41e3-ffc7-e446aceaa414"
      },
      "source": [
        "# Checking a sample of data - Current members representing Rio de Janeiro State \n",
        "for member in current_congressmen:\n",
        "    if member['siglaUf'] == 'RJ':\n",
        "        print(f\"{member['nome']}, {member['siglaPartido']}, {member['siglaUf']}, {member['email']}\")"
      ],
      "execution_count": 9,
      "outputs": [
        {
          "output_type": "stream",
          "text": [
            "Alessandro Molon, PSB, RJ, dep.alessandromolon@camara.leg.br\n",
            "Altineu Côrtes, PL, RJ, dep.altineucortes@camara.leg.br\n",
            "Aureo Ribeiro, SOLIDARIEDADE, RJ, dep.aureoribeiro@camara.leg.br\n",
            "Benedita da Silva, PT, RJ, dep.beneditadasilva@camara.leg.br\n",
            "Carlos Jordy, PSL, RJ, dep.carlosjordy@camara.leg.br\n",
            "Chico D'Angelo, PDT, RJ, dep.chicodangelo@camara.leg.br\n",
            "Chiquinho Brazão, AVANTE, RJ, dep.chiquinhobrazao@camara.leg.br\n",
            "Chris Tonietto, PSL, RJ, dep.christonietto@camara.leg.br\n",
            "Christino Aureo, PP, RJ, dep.christinoaureo@camara.leg.br\n",
            "Clarissa Garotinho, PROS, RJ, dep.clarissagarotinho@camara.leg.br\n",
            "Daniel Silveira, PSL, RJ, dep.danielsilveira@camara.leg.br\n",
            "Daniela do Waguinho, MDB, RJ, dep.danieladowaguinho@camara.leg.br\n",
            "David Miranda, PSOL, RJ, dep.davidmiranda@camara.leg.br\n",
            "Delegado Antônio Furtado, PSL, RJ, dep.delegadoantoniofurtado@camara.leg.br\n",
            "Dr. Luiz Antonio Teixeira Jr., PP, RJ, dep.dr.luizantonioteixeirajr@camara.leg.br\n",
            "Felício Laterça, PSL, RJ, dep.feliciolaterca@camara.leg.br\n",
            "Flordelis, PSD, RJ, dep.flordelis@camara.leg.br\n",
            "Gelson Azevedo, PL, RJ, dep.gelsonazevedo@camara.leg.br\n",
            "Glauber Braga, PSOL, RJ, dep.glauberbraga@camara.leg.br\n",
            "Gurgel, PSL, RJ, dep.gurgel@camara.leg.br\n",
            "Gutemberg Reis, MDB, RJ, dep.gutembergreis@camara.leg.br\n",
            "Helio Lopes, PSL, RJ, dep.heliolopes@camara.leg.br\n",
            "Hugo Leal, PSD, RJ, dep.hugoleal@camara.leg.br\n",
            "Jandira Feghali, PCdoB, RJ, dep.jandirafeghali@camara.leg.br\n",
            "Jorge Braz, REPUBLICANOS, RJ, dep.jorgebraz@camara.leg.br\n",
            "Juninho do Pneu, DEM, RJ, dep.juninhodopneu@camara.leg.br\n",
            "Lourival Gomes, PSL, RJ, dep.lourivalgomes@camara.leg.br\n",
            "Luiz Antônio Corrêa, PL, RJ, dep.luizantoniocorrea@camara.leg.br\n",
            "Luiz Lima, PSL, RJ, dep.luizlima@camara.leg.br\n",
            "Major Fabiana, PSL, RJ, dep.majorfabiana@camara.leg.br\n",
            "Marcelo Freixo, PSOL, RJ, dep.marcelofreixo@camara.leg.br\n",
            "Márcio Labre, PSL, RJ, dep.marciolabre@camara.leg.br\n",
            "Marcos Soares, DEM, RJ, dep.marcossoares@camara.leg.br\n",
            "Otavio Leite, PSDB, RJ, dep.otavioleite@camara.leg.br\n",
            "Otoni de Paula, PSC, RJ, dep.otonidepaula@camara.leg.br\n",
            "Paulo Ganime, NOVO, RJ, dep.pauloganime@camara.leg.br\n",
            "Paulo Ramos, PDT, RJ, dep.pauloramos@camara.leg.br\n",
            "Pedro Augusto Palareti, PSD, RJ, dep.pedroaugustopalareti@camara.leg.br\n",
            "Professor Joziel, PSL, RJ, dep.professorjoziel@camara.leg.br\n",
            "Ricardo da Karol, PSC, RJ, dep.ricardodakarol@camara.leg.br\n",
            "Rodrigo Maia, DEM, RJ, dep.rodrigomaia@camara.leg.br\n",
            "Rosangela Gomes, REPUBLICANOS, RJ, dep.rosangelagomes@camara.leg.br\n",
            "Soraya Santos, PL, RJ, dep.sorayasantos@camara.leg.br\n",
            "Sóstenes Cavalcante, DEM, RJ, dep.sostenescavalcante@camara.leg.br\n",
            "Talíria Petrone, PSOL, RJ, dep.taliriapetrone@camara.leg.br\n",
            "Vinicius Farah, MDB, RJ, dep.viniciusfarah@camara.leg.br\n"
          ],
          "name": "stdout"
        }
      ]
    },
    {
      "cell_type": "markdown",
      "metadata": {
        "id": "zi3QUPUTL_oS"
      },
      "source": [
        "#### C) Checking dataset - Previous elected congressmen"
      ]
    },
    {
      "cell_type": "code",
      "metadata": {
        "colab": {
          "base_uri": "https://localhost:8080/"
        },
        "id": "g9L9cVAX3Wdh",
        "outputId": "d2c4eeae-cab1-4e92-b17a-1293bfd0c16f"
      },
      "source": [
        "data_previous_congressmen.keys()"
      ],
      "execution_count": 10,
      "outputs": [
        {
          "output_type": "execute_result",
          "data": {
            "text/plain": [
              "dict_keys(['dados', 'links'])"
            ]
          },
          "metadata": {
            "tags": []
          },
          "execution_count": 10
        }
      ]
    },
    {
      "cell_type": "code",
      "metadata": {
        "colab": {
          "base_uri": "https://localhost:8080/"
        },
        "id": "5auOp9pR3jxF",
        "outputId": "b6d203a4-ab30-4086-8735-286aa45133c4"
      },
      "source": [
        "data_previous_congressmen['dados'][0]"
      ],
      "execution_count": 11,
      "outputs": [
        {
          "output_type": "execute_result",
          "data": {
            "text/plain": [
              "{'email': None,\n",
              " 'id': 178957,\n",
              " 'idLegislatura': 55,\n",
              " 'nome': 'ABEL MESQUITA JR.',\n",
              " 'siglaPartido': 'DEM',\n",
              " 'siglaUf': 'RR',\n",
              " 'uri': 'https://dadosabertos.camara.leg.br/api/v2/deputados/178957',\n",
              " 'uriPartido': 'https://dadosabertos.camara.leg.br/api/v2/partidos/36769',\n",
              " 'urlFoto': 'https://www.camara.leg.br/internet/deputado/bandep/178957.jpg'}"
            ]
          },
          "metadata": {
            "tags": []
          },
          "execution_count": 11
        }
      ]
    },
    {
      "cell_type": "code",
      "metadata": {
        "id": "x1W4Nyoz3rX7"
      },
      "source": [
        "previous_congressmen = data_previous_congressmen['dados']"
      ],
      "execution_count": 12,
      "outputs": []
    },
    {
      "cell_type": "code",
      "metadata": {
        "colab": {
          "base_uri": "https://localhost:8080/"
        },
        "id": "3J38HTo33a5B",
        "outputId": "947b68e4-f2ed-4b4d-ee89-8a98f3cbc3be"
      },
      "source": [
        "print(previous_congressmen[0].keys())"
      ],
      "execution_count": 13,
      "outputs": [
        {
          "output_type": "stream",
          "text": [
            "dict_keys(['id', 'uri', 'nome', 'siglaPartido', 'uriPartido', 'siglaUf', 'idLegislatura', 'urlFoto', 'email'])\n"
          ],
          "name": "stdout"
        }
      ]
    },
    {
      "cell_type": "code",
      "metadata": {
        "colab": {
          "base_uri": "https://localhost:8080/"
        },
        "id": "SY3c8dJJ39F3",
        "outputId": "6aa5fa38-0214-4806-defe-451c44a98b0d"
      },
      "source": [
        "print(f\"Brazil had { len(previous_congressmen) } congressmen on the previous election.\")"
      ],
      "execution_count": 14,
      "outputs": [
        {
          "output_type": "stream",
          "text": [
            "Brazil had 633 congressmen on the previous election.\n"
          ],
          "name": "stdout"
        }
      ]
    },
    {
      "cell_type": "code",
      "metadata": {
        "colab": {
          "base_uri": "https://localhost:8080/"
        },
        "id": "bFWx4mvm4Gya",
        "outputId": "eace6591-fe63-4da4-a74e-746c79a93cae"
      },
      "source": [
        "# Checking a sample of data - Previous members representing Rio de Janeiro State \n",
        "for member in previous_congressmen:\n",
        "    if member['siglaUf'] == 'RJ':\n",
        "        print(f\"{member['nome']}, {member['siglaPartido']}, {member['siglaUf']}, {member['email']}\")"
      ],
      "execution_count": 15,
      "outputs": [
        {
          "output_type": "stream",
          "text": [
            "ALESSANDRO MOLON, PSB, RJ, dep.alessandromolon@camara.leg.br\n",
            "ALEXANDRE SERFIOTIS, PSD, RJ, None\n",
            "ALEXANDRE VALLE, PR, RJ, None\n",
            "ALTINEU CÔRTES, PR, RJ, dep.altineucortes@camara.leg.br\n",
            "ANDREIA ZITO, PSDB, RJ, None\n",
            "AROLDE DE OLIVEIRA, PSD, RJ, None\n",
            "ÁTILA A. NUNES, MDB, RJ, None\n",
            "AUREO, SOLIDARIEDADE, RJ, dep.aureo@camara.leg.br\n",
            "BENEDITA DA SILVA, PT, RJ, dep.beneditadasilva@camara.leg.br\n",
            "CABO DACIOLO, PATRI, RJ, None\n",
            "CELSO JACOB, MDB, RJ, None\n",
            "CELSO PANSERA, PT, RJ, None\n",
            "CHICO ALENCAR, PSOL, RJ, None\n",
            "CHICO D'ANGELO, PDT, RJ, dep.chicodangelo@camara.leg.br\n",
            "CLARISSA GAROTINHO, PROS, RJ, dep.clarissagarotinho@camara.leg.br\n",
            "CRISTIANE BRASIL, PTB, RJ, None\n",
            "DEJORGE PATRÍCIO, PRB, RJ, None\n",
            "DELEY, PTB, RJ, None\n",
            "DR. JOÃO, PR, RJ, None\n",
            "EDUARDO CUNHA, MDB, RJ, None\n",
            "EZEQUIEL TEIXEIRA, PODE, RJ, None\n",
            "FABIANO HORTA, PT, RJ, None\n",
            "FELIPE BORNIER, PROS, RJ, None\n",
            "FERNANDO JORDÃO, MDB, RJ, None\n",
            "FRANCISCO FLORIANO, DEM, RJ, None\n",
            "GLAUBER BRAGA, PSOL, RJ, dep.glauberbraga@camara.leg.br\n",
            "HUGO LEAL, PSD, RJ, dep.hugoleal@camara.leg.br\n",
            "INDIO DA COSTA, PSD, RJ, None\n",
            "JAIR BOLSONARO, PSL, RJ, None\n",
            "JANDIRA FEGHALI, PCdoB, RJ, dep.jandirafeghali@camara.leg.br\n",
            "JEAN WYLLYS, PSOL, RJ, None\n",
            "JULIO LOPES, PP, RJ, None\n",
            "LAURA CARNEIRO, DEM, RJ, None\n",
            "LEONARDO PICCIANI, MDB, RJ, None\n",
            "LOURIVAL GOMES, PODE, RJ, dep.lourivalgomes@camara.leg.br\n",
            "LUIZ CARLOS RAMOS, PR, RJ, None\n",
            "LUIZ SÉRGIO, PT, RJ, None\n",
            "MARCELO DELAROLI, PR, RJ, None\n",
            "MARCELO MATOS, PSD, RJ, None\n",
            "MARCO ANTÔNIO CABRAL, MDB, RJ, None\n",
            "MARCOS SOARES, DEM, RJ, dep.marcossoares@camara.leg.br\n",
            "MARQUINHO MENDES, MDB, RJ, None\n",
            "MIRO TEIXEIRA, REDE, RJ, None\n",
            "NELSON NAHIM, PSD, RJ, None\n",
            "OTAVIO LEITE, PSDB, RJ, dep.otavioleite@camara.leg.br\n",
            "PAULO FEIJÓ, PR, RJ, None\n",
            "PEDRO PAULO, DEM, RJ, None\n",
            "ROBERTO SALES, DEM, RJ, None\n",
            "RODRIGO MAIA, DEM, RJ, dep.rodrigomaia@camara.leg.br\n",
            "ROSANGELA GOMES, PRB, RJ, dep.rosangelagomes@camara.leg.br\n",
            "SERGIO ZVEITER, DEM, RJ, None\n",
            "SIMÃO SESSIM, PP, RJ, None\n",
            "SORAYA SANTOS, PR, RJ, dep.sorayasantos@camara.leg.br\n",
            "SÓSTENES CAVALCANTE, DEM, RJ, dep.sostenescavalcante@camara.leg.br\n",
            "WADIH DAMOUS, PT, RJ, None\n",
            "WALNEY ROCHA, PATRI, RJ, None\n",
            "WASHINGTON REIS, MDB, RJ, None\n",
            "WILSON BESERRA, MDB, RJ, None\n",
            "ZÉ AUGUSTO NALIN, DEM, RJ, None\n"
          ],
          "name": "stdout"
        }
      ]
    },
    {
      "cell_type": "markdown",
      "metadata": {
        "id": "tIVuFTOUNJwc"
      },
      "source": [
        "#### D) checking databases (cross-checking trial)"
      ]
    },
    {
      "cell_type": "code",
      "metadata": {
        "id": "SFxU1YxcMZyu",
        "colab": {
          "base_uri": "https://localhost:8080/"
        },
        "outputId": "76a889ec-a83c-4425-c9b7-13c21289337f"
      },
      "source": [
        "current_members_RJ = []\n",
        "previous_members_RJ = []\n",
        "\n",
        "# Lisiting RJ current elected congressment members\n",
        "for member in current_congressmen:\n",
        "    if member['siglaUf'] == 'RJ':\n",
        "        current_members_RJ.append(member['nome'].upper())\n",
        "\n",
        "# Lisiting RJ previous elected congressment members\n",
        "for member in previous_congressmen:\n",
        "    if member['siglaUf'] == 'RJ':\n",
        "        previous_members_RJ.append(member['nome'].upper())\n",
        "\n",
        "# identifying re-elected\n",
        "reelected = []\n",
        "for member in current_members_RJ:\n",
        "    if member in previous_members_RJ:\n",
        "        reelected.append(member)\n",
        "\n",
        "print(f'The state of Rio de Janeiro has re-elected {len(reelected)} congressmen')"
      ],
      "execution_count": 16,
      "outputs": [
        {
          "output_type": "stream",
          "text": [
            "The state of Rio de Janeiro has re-elected 15 congressmen\n"
          ],
          "name": "stdout"
        }
      ]
    },
    {
      "cell_type": "markdown",
      "metadata": {
        "id": "z5KJveaUPQz2"
      },
      "source": [
        "### Creating the dictionary"
      ]
    },
    {
      "cell_type": "code",
      "metadata": {
        "colab": {
          "base_uri": "https://localhost:8080/"
        },
        "id": "ARckMP4w9CDm",
        "outputId": "7e1d4cef-43f6-4aa7-e20a-466cc1c516f6"
      },
      "source": [
        "reelected_congressmen = {}\n",
        "\n",
        "for member in current_congressmen:\n",
        "  for exmember in previous_congressmen:\n",
        "    if member['nome'].upper() == exmember['nome'].upper():\n",
        "      if (member['siglaUf'] not in reelected_congressmen):\n",
        "        reelected_congressmen[member['siglaUf']]=1\n",
        "      else:\n",
        "        reelected_congressmen[member['siglaUf']]+=1\n",
        "\n",
        "print(reelected_congressmen)"
      ],
      "execution_count": 17,
      "outputs": [
        {
          "output_type": "stream",
          "text": [
            "{'MG': 28, 'BA': 23, 'RS': 17, 'PB': 6, 'AC': 4, 'RJ': 15, 'SP': 38, 'PR': 14, 'MA': 7, 'AP': 3, 'PE': 15, 'CE': 9, 'AL': 5, 'AM': 2, 'PI': 6, 'PA': 7, 'RN': 3, 'SE': 5, 'MT': 1, 'TO': 4, 'SC': 5, 'GO': 7, 'MS': 3, 'RR': 4, 'DF': 1, 'ES': 3, 'RO': 3}\n"
          ],
          "name": "stdout"
        }
      ]
    }
  ]
}