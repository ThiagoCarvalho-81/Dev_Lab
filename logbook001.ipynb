{
  "nbformat": 4,
  "nbformat_minor": 0,
  "metadata": {
    "colab": {
      "name": "logbook001.ipynb",
      "provenance": [],
      "collapsed_sections": [
        "XILoEnC6vOTX",
        "0ZEwo1P6xGUt",
        "2IzJwUAKv7Zm",
        "xFh0S3TsyHtu",
        "zggyzgtkrYj5",
        "l-anvAY_rYzw",
        "KMfHvsEYrZCQ",
        "9REVvqA1sMjw",
        "CKF2lr1ftQQQ",
        "yzdhsmQZOT8u",
        "Cgj-ZiSEWBUg",
        "ITb4nmQIXPFs",
        "e97v3EckZsfx",
        "Q_oXr8MgZMC2",
        "NX8VL-7vaxrj",
        "VbtbXz8F67No",
        "_DOFig1I67KU",
        "GNvLoFV4BJzK",
        "VZ7cNSQq8qj9",
        "rxROVzB98xQQ",
        "HdQHjr5ZHlDz",
        "RjQ2TeTc8z47",
        "JKngLrhbHpfd",
        "GoLMbWiHJhSl",
        "szoH6bHw6y_x",
        "cda0svuxjhhB",
        "wLnJDq26897J",
        "bjwfIvAA894F",
        "jL5sdlZrrPjK",
        "Z_WIWKBdqKZE",
        "QbsAjd5V_zKY",
        "6k5K29A-6G65",
        "hQZVyQe26KGx",
        "9pWu7vPh6Mcm",
        "cHAOsH0fALwD",
        "K8BqamN5AUdb",
        "SxrlBBOECb4r",
        "WjZgYHgLF70X",
        "hkARzNThuyAc"
      ],
      "mount_file_id": "16z3A6Z7jLXMYMB8NoHcaAvZx8Z1Jp-f-",
      "authorship_tag": "ABX9TyNIYkC9L7Z8g7IKXpFVxNwp",
      "include_colab_link": true
    },
    "kernelspec": {
      "name": "python3",
      "display_name": "Python 3"
    }
  },
  "cells": [
    {
      "cell_type": "markdown",
      "metadata": {
        "id": "view-in-github",
        "colab_type": "text"
      },
      "source": [
        "<a href=\"https://colab.research.google.com/github/ThiagoCarvalho-81/Dev_Lab/blob/main/logbook001.ipynb\" target=\"_parent\"><img src=\"https://colab.research.google.com/assets/colab-badge.svg\" alt=\"Open In Colab\"/></a>"
      ]
    },
    {
      "cell_type": "markdown",
      "metadata": {
        "id": "ceVV1hbPtMgG"
      },
      "source": [
        "# Ship's logbook - Python\n",
        "\n",
        "Registration of the learning path. \n",
        "\n",
        "Python - First steps of an aspiring data scientist.\n"
      ]
    },
    {
      "cell_type": "markdown",
      "metadata": {
        "id": "XILoEnC6vOTX"
      },
      "source": [
        "\n",
        "## PYTHON DATA TYPES"
      ]
    },
    {
      "cell_type": "markdown",
      "metadata": {
        "id": "0ZEwo1P6xGUt"
      },
      "source": [
        "### A) Numbers\n",
        "\n",
        "They are defined as int, float and complex classes in Python."
      ]
    },
    {
      "cell_type": "code",
      "metadata": {
        "id": "U437xaKFtLKy"
      },
      "source": [
        "a = 123\n",
        "print(a, \"is of type\", type(a)) #Integers can be of any length, it is only limited by the memory available.\n",
        "\n",
        "a = 12.3\n",
        "print(a, \"is of type\", type(a)) #A floating-point number is accurate up to 15 decimal places. Integer and floating points are separated by decimal points. 1 is an integer, 1.0 is a floating-point number.\n",
        "\n",
        "a = 1+2j\n",
        "print(a, \"is complex number?\", isinstance(1+2j,complex)) #Complex numbers are written in the form, x + yj, where x is the real part and y is the imaginary part. Here are some examples."
      ],
      "execution_count": null,
      "outputs": []
    },
    {
      "cell_type": "markdown",
      "metadata": {
        "id": "jWYF6x-AyJFY"
      },
      "source": [
        "Integers can be of any length, it is only limited by the memory available.\n",
        "\n",
        "A floating-point number is accurate up to 15 decimal places. Integer and floating points are separated by decimal points. 1 is an integer, 1.0 is a floating-point number.\n",
        "\n",
        "Complex numbers are written in the form, x + yj, where x is the real part and y is the imaginary part."
      ]
    },
    {
      "cell_type": "code",
      "metadata": {
        "id": "O7jZU8EhyJQL"
      },
      "source": [
        "#basic algebraic opetations with numbers\n",
        "x = 2\n",
        "z = 3\n",
        "w = 1.56\n",
        "\n",
        "math_a = x+z # Sum of x and z\n",
        "print(math_a)\n",
        "\n",
        "math_b = x-z # Difference of x and z\n",
        "print(math_b)\n",
        "\n",
        "math_c = x*z # Product of x and z\n",
        "print(math_c)\n",
        "\n",
        "math_d = x//z # Quotient of x and z\n",
        "print(math_d)\n",
        "\n",
        "math_e = x//z # Floored quotient of x and z\n",
        "print(math_e)\n",
        "\n",
        "math_f = x%z # Remainder of x / z\n",
        "print(math_f)\n",
        "\n",
        "math_g = divmod(x, z) # The pair (x // z, x % z)\n",
        "print(math_g)\n",
        "\n",
        "math_h = int(w) #w converted to integer\n",
        "print(math_h)\n",
        "\n",
        "math_i = float(x) #x converted to float  \n",
        "print(math_i)\n",
        "\n",
        "math_h = x**z # x to the power z\n",
        "print(math_h)\n",
        "\n",
        "math_h = pow(x,z) # x to the power z\n",
        "print(math_h)\n"
      ],
      "execution_count": null,
      "outputs": []
    },
    {
      "cell_type": "markdown",
      "metadata": {
        "id": "2IzJwUAKv7Zm"
      },
      "source": [
        "### B) Lists\n",
        "\n",
        "List is an ordered sequence of items. All the items in a list do not need to be of the same type.\n",
        "\n",
        "Declaring a list is pretty straight forward. Items separated by commas are enclosed within brackets [ ].\n",
        "\n",
        "Lists are mutable, meaning, the value of elements of a list can be altered.\n"
      ]
    },
    {
      "cell_type": "code",
      "metadata": {
        "id": "pBlI34W3yGiZ"
      },
      "source": [
        "lista1 = [1, 99, 4, 27, 15, 22, 3, 1, 44, 42, 27]\n",
        "\n",
        "lista2 = ['T', 'h', 'i', 'a', 'g', 'o', ' ', 'd', 'e', ' ', 'C', 'a', 'r', 'v', 'a', 'l', 'h', 'o']\n",
        "\n",
        "lista3 = []\n",
        "\n",
        "lista4 = list(range(11))\n",
        "\n",
        "lista5 = [1, 99, 4, 27, 15, 22, 3, 1, 44, 42, 27]\n",
        "\n",
        "\n",
        "print(lista1)\n",
        "print(lista2)\n",
        "print(lista3)\n",
        "print(lista4)\n",
        "print(lista5)"
      ],
      "execution_count": null,
      "outputs": []
    },
    {
      "cell_type": "markdown",
      "metadata": {
        "id": "xFh0S3TsyHtu"
      },
      "source": [
        "####Working with lists"
      ]
    },
    {
      "cell_type": "code",
      "metadata": {
        "id": "OYcWHlOLyIEs"
      },
      "source": [
        "#  Looking for an element in a list\n",
        "num = 7\n",
        "if num in lista4:\n",
        "    print(f'I have found {num}')\n",
        "else:\n",
        "    print(f'I did not find {num}')\n"
      ],
      "execution_count": null,
      "outputs": []
    },
    {
      "cell_type": "code",
      "metadata": {
        "id": "cnFilS1cyIaf"
      },
      "source": [
        "#Put list elements in ORDER\n",
        "print(lista5)\n",
        "lista5.sort()\n",
        "print(lista5)\n"
      ],
      "execution_count": null,
      "outputs": []
    },
    {
      "cell_type": "code",
      "metadata": {
        "id": "huFuU9K01PUB"
      },
      "source": [
        "#COUNT the number of occurrences of a value in a list\n",
        "print(lista1.count(1))\n",
        "print(lista2.count('a'))"
      ],
      "execution_count": null,
      "outputs": []
    },
    {
      "cell_type": "code",
      "metadata": {
        "id": "dZTglfEj8HxR"
      },
      "source": [
        "#COUNT elements\n",
        "print(len(lista5))"
      ],
      "execution_count": null,
      "outputs": []
    },
    {
      "cell_type": "code",
      "metadata": {
        "id": "ttK569dD1R0L"
      },
      "source": [
        "# ADD elements\n",
        "\n",
        "# ONE ELEMENT addition --> append\n",
        "print(lista1)\n",
        "lista1.append(42)\n",
        "print(lista1)\n",
        "\n",
        "# MULTIPLE ELEMENTS adition --> extend\n",
        "lista1.extend([123, 44, 67]) # Coloca cada elemento da lista como valor adicional á lista\n",
        "print(lista1)\n",
        "\n",
        "\n",
        "# adding element in a specific position\n",
        "lista1.insert(2, 'Novo Valor')\n",
        "print(lista1) # After the new element addition, the previous number of that position is slipped to the right.\n"
      ],
      "execution_count": null,
      "outputs": []
    },
    {
      "cell_type": "code",
      "metadata": {
        "id": "Q41VL8cz4BR2"
      },
      "source": [
        "# JOIN lists\n",
        "\n",
        "lista6 = lista2 + lista4 #criating a new list\n",
        "print(lista6)\n",
        "\n",
        "lista6.extend(lista1) #joining literally\n",
        "print(lista6)"
      ],
      "execution_count": null,
      "outputs": []
    },
    {
      "cell_type": "code",
      "metadata": {
        "id": "53CXfp0T7cOS"
      },
      "source": [
        "# put list in REVERSE order\n",
        "\n",
        "# 1st\n",
        "print(lista1)\n",
        "print(lista2)\n",
        "lista1.reverse()\n",
        "lista2.reverse()\n",
        "print(lista1)\n",
        "print(lista2)\n",
        "\n",
        "# 2nd\n",
        "print(lista1[::-1])\n",
        "print(lista2[::-1])"
      ],
      "execution_count": null,
      "outputs": []
    },
    {
      "cell_type": "code",
      "metadata": {
        "id": "XkuXyatt8X2-"
      },
      "source": [
        "# COPY a list\n",
        "\n",
        "# Deep Copy\n",
        "print(lista2)\n",
        "lista7 = lista2.copy() \n",
        "print(lista7)\n",
        "\n",
        "lista7.append(4)\n",
        "\n",
        "print(lista2)\n",
        "print(lista7)\n",
        "\n",
        "# We have copied the data from the list to a new list\n",
        "# but they have become totally independent, it means: modifying one list \n",
        "# does not affect the other. \n",
        "\n",
        "# Shallow Copy\n",
        "listaz = [1, 2, 3]\n",
        "print(listaz)\n",
        "new = listaz  # copy\n",
        "\n",
        "print(new)\n",
        "new.append(4)\n",
        "print(listaz)\n",
        "print(new)\n",
        "\n",
        "# We have used the copy via assignment and copied the data to the new list, but\n",
        "# after making a change in one of the lists, that change was reflected in both lists."
      ],
      "execution_count": null,
      "outputs": []
    },
    {
      "cell_type": "code",
      "metadata": {
        "id": "IGLgWFQQ8XpH"
      },
      "source": [
        "# REMOVE elements\n",
        "\n",
        "# remove the last element (and return it)\n",
        "print(lista7)\n",
        "lista7.pop()\n",
        "print(lista7)\n",
        "\n",
        "# Remove an specific element\n",
        "lista5.pop(2)\n",
        "print(lista7)\n",
        "\n",
        "# remove all elements\n",
        "print(lista7)\n",
        "lista7.clear()\n",
        "print(lista7)\n"
      ],
      "execution_count": null,
      "outputs": []
    },
    {
      "cell_type": "code",
      "metadata": {
        "id": "SSDLVQ3-8XXS"
      },
      "source": [
        "# REPEAT elements as many desired times\n",
        "nova = [1, 2, 3]\n",
        "print(nova)\n",
        "nova = nova * 3\n",
        "print(nova)"
      ],
      "execution_count": null,
      "outputs": []
    },
    {
      "cell_type": "code",
      "metadata": {
        "id": "BN6OUmpvJnTQ"
      },
      "source": [
        "# ACCESS elements by INDEX\n",
        "\n",
        "#           0         1        2        3        4\n",
        "colors = ['green', 'yellow', 'blue', 'green', 'white']\n",
        "\n",
        "print(colors[0])  # green\n",
        "print(colors[1])  # yellow\n",
        "print(colors[2])  # blue\n",
        "print(colors[3])  # green\n",
        "print(colors[4])  # white\n",
        "\n",
        "# backward index order\n",
        "print(colors[-1])  # white\n",
        "print(colors[-2])  # green\n",
        "print(colors[-3])  # blue\n",
        "print(colors[-4])  # yellow\n",
        "print(colors[-5])  # green\n",
        "\n",
        "# Discovering the index of an element\n",
        "print(colors.index('blue'))\n",
        "\n",
        "# Discovering the index of an element | OBS: Returns the index of the 1st if repeated element\n",
        "print(colors.index('green'))\n",
        "\n",
        "# Discovering the index of an element into a range\n",
        "print(colors.index('green', 1, 4)) # search the index of 'green'between indexes 1 and 4"
      ],
      "execution_count": null,
      "outputs": []
    },
    {
      "cell_type": "code",
      "metadata": {
        "id": "olWEUcbSCBMR"
      },
      "source": [
        "# CONVERSIONS \n",
        "\n",
        "# string --> list\n",
        "namea = 'Thiago de Carvalho'\n",
        "print(namea)\n",
        "print(type(namea))\n",
        "nameb = namea.split()\n",
        "print(nameb)\n",
        "print(type(nameb))\n",
        "\n",
        "namesa = 'Thiago,Milton,Bruno,Priscila,Elis,Dan,Marina'\n",
        "print(namesa)\n",
        "print(type(namesa))\n",
        "namesb = namesa.split(',')\n",
        "print(namesb)\n",
        "print(type(namesb))\n",
        "\n",
        "# list --> string\n",
        "lista9 = ['home', 'park', 'club', 'cinema']\n",
        "print(lista9)\n",
        "print(type(lista9))\n",
        "places = ' '.join(lista9) # It means: Bring lista9, put an space btw elements and transform it on string type\n",
        "print(places)\n",
        "print(type(places))\n",
        "\n",
        "places2 = '$'.join(lista9) # It means: Bring lista9, put a $ between elements and transform it on string type\n",
        "print(places2)\n",
        "print(type(places2))\n",
        "\n",
        "# list --> tuple\n",
        "listaw = [1, 2, 3, 4, 5, 6]\n",
        "print(listaw)\n",
        "print(type(listaw))\n",
        "\n",
        "tuplaw = tuple(listaw)\n",
        "print(tuplaw)\n",
        "print(type(tuplaw))"
      ],
      "execution_count": null,
      "outputs": []
    },
    {
      "cell_type": "code",
      "metadata": {
        "id": "XUF7lJw_CBPV"
      },
      "source": [
        "# SLICING\n",
        "\n",
        "# list[BEGIN:END:PACE]\n",
        "\n",
        "# 'BEGIN'\n",
        "listay = [1, 2, 3, 4]\n",
        "print(listay[1:])  # Beginning on index 1; bring all elements\n",
        "\n",
        "# 'END'\n",
        "print(listay[:2])  # begining in 0, bring the elements until the one with index 2 -1\n",
        "print(listay[:4])  # begining in 0, bring the elements until the one with index 4 -1\n",
        "print(listay[1:3]) # begining in 1, bring the elements until the one with index 3 -1\n",
        "\n",
        "# 'PACE'\n",
        "print(listay[1::2])  # begining in 1, goes until to the end, bringing elements at pace of 2\n",
        "print(listay[::2])  # begining in 0, goes until to the end, bringing elements at pace of 2"
      ],
      "execution_count": null,
      "outputs": []
    },
    {
      "cell_type": "code",
      "metadata": {
        "id": "KuXea4DoCBSB"
      },
      "source": [
        "# ITERATIONS using lists\n",
        "\n",
        "# FOR\n",
        "lista9 = list(range(5))\n",
        "print(lista9)\n",
        "addition = 1\n",
        "for element in lista9:\n",
        "    print(element)\n",
        "    addition = addition + element #sum all elements and adding 1\n",
        "print(addition)\n",
        "\n",
        "\n",
        "# WHILE\n",
        "cart = []\n",
        "product = ''\n",
        "\n",
        "while product != 'done':\n",
        "    print(\"Insert the product or type 'done' to leave at the end: \")\n",
        "    product = input()\n",
        "    if product != 'done':\n",
        "        cart.append(product)\n",
        "\n",
        "for product in cart:\n",
        "    print(product)\n",
        "\n",
        "\n",
        "\n",
        "#other example\n",
        "colors = ['green', 'yellow', 'blue', 'white']\n",
        "print(colors)\n",
        "\n",
        "# listing using FOR\n",
        "for color in colors:\n",
        "    print(color)\n",
        "\n",
        "# listing elements and their index using FOR\n",
        "for index, color in enumerate(colors):\n",
        "    print(index, color)\n",
        "\n",
        "# using WHILE to print all list elements one by one\n",
        "index = 0\n",
        "while index < len(colors):\n",
        "    print(colors[index])\n",
        "    index = index + 1\n"
      ],
      "execution_count": null,
      "outputs": []
    },
    {
      "cell_type": "code",
      "metadata": {
        "id": "I8oKDZ5aLe9V"
      },
      "source": [
        "# Variable based lists\n",
        "numbers = [1, 2, 3, 4, 5]\n",
        "print(numbers)\n",
        "\n",
        "num1 = 1\n",
        "num2 = 2\n",
        "num3 = 3\n",
        "num4 = 4\n",
        "num5 = 5\n",
        "\n",
        "numbersV = [num1, num2, num3, num4, num5]\n",
        "print(numbersV)"
      ],
      "execution_count": null,
      "outputs": []
    },
    {
      "cell_type": "code",
      "metadata": {
        "id": "JxxslIR4yIua"
      },
      "source": [
        "# Sum*, Maximum value*, Minimum Value*, length\n",
        "# * Applied only if the values are all int and/or float.\n",
        "\n",
        "listB = [1, 2, 3, 4, 5, 6]\n",
        "\n",
        "print(sum(listB))  # soma\n",
        "print(max(listB))  # máximo valor\n",
        "print(min(listB))  # mínimo valor\n",
        "print(len(listB))  # tamanho da listB"
      ],
      "execution_count": null,
      "outputs": []
    },
    {
      "cell_type": "code",
      "metadata": {
        "id": "lLf22__EV5u2"
      },
      "source": [
        "#Umpacking lists\n",
        "listC = [1, 2, 3]\n",
        "\n",
        "num1, num2, num3 = listC\n",
        "\n",
        "print(num1)\n",
        "print(num2)\n",
        "print(num3)\n"
      ],
      "execution_count": null,
      "outputs": []
    },
    {
      "cell_type": "code",
      "metadata": {
        "id": "7DM0Zq6iG0sS"
      },
      "source": [
        ""
      ],
      "execution_count": null,
      "outputs": []
    },
    {
      "cell_type": "markdown",
      "metadata": {
        "id": "zggyzgtkrYj5"
      },
      "source": [
        "### C) Tuples\n",
        "\n",
        "Tuple is an ordered sequence of items same as a list. The only difference is that tuples are immutable. Tuples once created cannot be modified.\n",
        "\n",
        "Tuples are used to write-protect data and are usually faster than lists as they cannot change dynamically.\n",
        "\n",
        "It is defined within parentheses () where items are separated by commas."
      ]
    },
    {
      "cell_type": "code",
      "metadata": {
        "id": "EHKt5fJVfcd0"
      },
      "source": [
        "# Generating a tuple with range\n",
        "tuple1 = tuple(range(11))\n",
        "print(tuple1)\n",
        "print(type(tuple1))"
      ],
      "execution_count": null,
      "outputs": []
    },
    {
      "cell_type": "code",
      "metadata": {
        "id": "a2npMulRffDz"
      },
      "source": [
        "# Unpacking tuple\n",
        "tuple2 = ('Thiago', 'Carvalho')\n",
        "namet, surnamet = tuple2\n",
        "\n",
        "print(namet)\n",
        "print(surnamet)"
      ],
      "execution_count": null,
      "outputs": []
    },
    {
      "cell_type": "code",
      "metadata": {
        "id": "zmQZykG_f7Xa"
      },
      "source": [
        "# Methods for adding and removing elements in tuples do not exist, since tuples are immutable."
      ],
      "execution_count": null,
      "outputs": []
    },
    {
      "cell_type": "code",
      "metadata": {
        "id": "vLjXTPozgC5A"
      },
      "source": [
        "# Sum*, Maximum value*, Minimum Value*, length\n",
        "# * Applied only if the values are all int and/or float.\n",
        "\n",
        "tuple3 = (1, 2, 3, 4, 5, 6)\n",
        "\n",
        "print(sum(tuple3))  # soma\n",
        "print(max(tuple3))  # máximo valor\n",
        "print(min(tuple3))  # mínimo valor\n",
        "print(len(tuple3))  # tamanho da listB"
      ],
      "execution_count": null,
      "outputs": []
    },
    {
      "cell_type": "code",
      "metadata": {
        "id": "zHkzd-H-hKu1"
      },
      "source": [
        "# tuple CONCATENATION\n",
        "\n",
        "tuple4 = (1, 2, 3)\n",
        "print(tuple4)\n",
        "\n",
        "tuple5 = (4, 5, 6)\n",
        "print(tuple5)\n",
        "\n",
        "print(tuple4 + tuple5)  # Tuplas são imutáveis\n",
        "\n",
        "print(tuple4)\n",
        "print(tuple5)\n",
        "\n",
        "tuple6 = tuple4 + tuple5\n",
        "\n",
        "print(tuple6)\n",
        "print(tuple4)\n",
        "print(tuple5)\n",
        "\n",
        "tuple7 = (1,3)\n",
        "print(tuple7)\n",
        "tuple7 = tuple6 + tuple4  # Tuplas são imutáveis, mas podemos sobrescrever seus valores\n",
        "print(tuple7)"
      ],
      "execution_count": null,
      "outputs": []
    },
    {
      "cell_type": "code",
      "metadata": {
        "id": "SMDCPiDKhjmg"
      },
      "source": [
        "# Check if a certain element is contained in the tuplE\n",
        "tuple8 = (1, 2, 3)\n",
        "print(3 in tuple8)"
      ],
      "execution_count": null,
      "outputs": []
    },
    {
      "cell_type": "code",
      "metadata": {
        "id": "x0g5meHnisHT"
      },
      "source": [
        "# ITERATING with tuple\n",
        "\n",
        "tuple9 = (1, 2, 3)\n",
        "for n in tuple9:\n",
        "    print(n)\n",
        "\n",
        "for index, value in enumerate(tuple9):\n",
        "    print(index, value)\n",
        "\n",
        "\n",
        "months = ('Jan', 'Feb', 'Mar', 'Apr', 'May', 'Jun', 'Jul', 'Aug', 'Sep', 'Oct', 'Nov', 'Dec')\n",
        "i = 0\n",
        "while i < len(months):\n",
        "    print(months[i])\n",
        "    i = i + 1\n"
      ],
      "execution_count": null,
      "outputs": []
    },
    {
      "cell_type": "code",
      "metadata": {
        "id": "w1N_n23-jG3S"
      },
      "source": [
        "# COUNT elements of a tuple \n",
        "\n",
        "tuple10 = ('a', 'b', 'c', 'd', 'e', 'a', 'b')\n",
        "print(tuple10)\n",
        "print(tuple10.count('c'))\n",
        "\n",
        "tuple11 = ('Thiago de Carvalho')\n",
        "print(tuple11)\n",
        "print(tuple11.count('o'))"
      ],
      "execution_count": null,
      "outputs": []
    },
    {
      "cell_type": "code",
      "metadata": {
        "id": "UhVe3DQojrzK"
      },
      "source": [
        "# Slicing\n",
        "# tupla[begin:end:pace]\n",
        "\n",
        "months = ('Jan', 'Feb', 'Mar', 'Apr', 'May', 'Jun', 'Jul', 'Aug', 'Sep', 'Oct', 'Nov', 'Dec')\n",
        "print(months[5:9])"
      ],
      "execution_count": null,
      "outputs": []
    },
    {
      "cell_type": "code",
      "metadata": {
        "id": "6HV6nv77nyPc"
      },
      "source": [
        "# Checking the index of an element in a tuple\n",
        "print(months.index('Jun'))"
      ],
      "execution_count": null,
      "outputs": []
    },
    {
      "cell_type": "code",
      "metadata": {
        "id": "QdDp7Tup1Y0R"
      },
      "source": [
        "# COPY a tuple\n",
        "# there is no Shallow Copy of a tuple\n",
        "\n",
        "tuple12 = (1, 2, 3)\n",
        "print(tuple12)\n",
        "\n",
        "new = tuple12  \n",
        "\n",
        "print(new)\n",
        "print(tuple12)\n",
        "\n",
        "other = (4, 5, 6)\n",
        "\n",
        "new = new + other\n",
        "\n",
        "print(new)\n",
        "print(tuple12)"
      ],
      "execution_count": null,
      "outputs": []
    },
    {
      "cell_type": "markdown",
      "metadata": {
        "id": "l-anvAY_rYzw"
      },
      "source": [
        "### D) Dictionaries\n",
        "\n",
        "Dictionary is an unordered collection of key-value pairs.\n",
        "\n",
        "It is generally used when we have a huge amount of data. Dictionaries are optimized for retrieving data. We must know the key to retrieve the value.\n",
        "\n",
        "In Python, dictionaries are defined within braces {} with each item being a pair in the form key:value. Key and value can be of any type."
      ]
    },
    {
      "cell_type": "code",
      "metadata": {
        "id": "_yfCTBKD1Zbv"
      },
      "source": [
        "# CREATE a dictionary\n",
        "\n",
        "# Option 1 (more used)\n",
        "countries = {'br': 'Brazil', 'us': 'United States', 'py': 'Paraguay'}\n",
        "print(countries)\n",
        "print(type(countries))\n",
        "\n",
        "# Option 2 (less common)\n",
        "countries2 = dict(br='Brazil', us='United States', py='Paraguay')\n",
        "print(countries2)\n",
        "print(type(countries2))"
      ],
      "execution_count": null,
      "outputs": []
    },
    {
      "cell_type": "code",
      "metadata": {
        "id": "9y1Y3jKdpmno"
      },
      "source": [
        "# ACCESS an element\n",
        "\n",
        "countries = {'br': 'Brazil', 'us': 'United States', 'py': 'Paraguay'}\n",
        "\n",
        "# Option 1 - using key\n",
        "print(countries['br'])\n",
        "# print(countries['ru']) # if there is no mach the KeyError will be displayed\n",
        "\n",
        "# Option 2 - using  get - Recommended\n",
        "print(countries.get('br'))\n",
        "print(countries.get('ru')) # if there is no mach the None will be displayed\n",
        "\n",
        "countries = countries.get('ru')\n",
        "if countries:\n",
        "    print(f'Found {country}')\n",
        "else:\n",
        "    print('Not Found')\n"
      ],
      "execution_count": null,
      "outputs": []
    },
    {
      "cell_type": "code",
      "metadata": {
        "id": "8lw7DsT2pmkz"
      },
      "source": [
        "# Is indicated use tuple as dict, considering its immuable aspect\n",
        "\n",
        "locations = {\n",
        "    (35.6895, 39.6917):  'Tokio',\n",
        "    (40.7128, 74.0060): 'New York',\n",
        "    (37.7749, 122.4194): 'São Paulo',\n",
        "}\n",
        "\n",
        "print(locations)\n",
        "print(type(locations))"
      ],
      "execution_count": null,
      "outputs": []
    },
    {
      "cell_type": "code",
      "metadata": {
        "id": "nbTnqlIEy5WV"
      },
      "source": [
        "# ADDING elements\n",
        "revenue = {'jan': 100, 'feb': 120, 'mar': 300}\n",
        "print(revenue)\n",
        "print(type(revenue))\n",
        "\n",
        "# Option 1 - commom used\n",
        "revenue['apr'] = 350\n",
        "print(revenue)\n",
        "\n",
        "# Option 2\n",
        "new_entry = {'mai': 500}\n",
        "revenue.update(new_entry)  # receita.update({'mai': 500})\n",
        "print(revenue)"
      ],
      "execution_count": null,
      "outputs": []
    },
    {
      "cell_type": "code",
      "metadata": {
        "id": "SpiRWO2Wy5Lj"
      },
      "source": [
        "# UPDATING values in a dictionary\n",
        "# Option 1\n",
        "revenue['mai'] = 550\n",
        "print(revenue)\n",
        "\n",
        "# Option 2\n",
        "revenue.update({'mai': 600})\n",
        "print(revenue)"
      ],
      "execution_count": null,
      "outputs": []
    },
    {
      "cell_type": "code",
      "metadata": {
        "id": "B4OJLFGty42w"
      },
      "source": [
        "# REMOVE elements of a dictionary\n",
        "revenue2 = {'jan': 100, 'feb': 120, 'mar': 300}\n",
        "print(revenue2)\n",
        "\n",
        "# Option 1 - more used\n",
        "ret = revenue2.pop('mar')\n",
        "print(ret)\n",
        "print(revenue2)\n",
        "\n",
        "# Option 2 - less common\n",
        "del revenue2['feb']\n",
        "print(revenue2)"
      ],
      "execution_count": null,
      "outputs": []
    },
    {
      "cell_type": "code",
      "metadata": {
        "id": "sHZ8VeYE1Tp5"
      },
      "source": [
        "# CLEAR \n",
        "d = dict(a=1, b=2, c=3)\n",
        "print(d)\n",
        "print(type(d))\n",
        "\n",
        "d.clear()\n",
        "print(d)"
      ],
      "execution_count": null,
      "outputs": []
    },
    {
      "cell_type": "code",
      "metadata": {
        "id": "LTGtH9Jqpmic"
      },
      "source": [
        "#COPY\n",
        "d = dict(a=1, b=2, c=3)\n",
        "print(d)\n",
        "print(type(d))\n",
        "\n",
        "# Deep Copy\n",
        "newdict = d.copy()\n",
        "print(newdict)\n",
        "newdict['d'] = 4\n",
        "print(d)\n",
        "print(newdict)\n",
        "\n",
        "# Shallow Copy\n",
        "newdict2 = d\n",
        "print(newdict2)\n",
        "newdict2['d'] = 4\n",
        "print(d)\n",
        "print(newdict2)"
      ],
      "execution_count": null,
      "outputs": []
    },
    {
      "cell_type": "code",
      "metadata": {
        "id": "BP1XjDFupmfx"
      },
      "source": [
        "# Imagine you have an e-commerce, where we have a shopping cart in which we add products.\n",
        "Shopping_Cart = []\n",
        "\n",
        "Product_1 = {'name': 'Playstation 4', 'quantity': 1, 'price': 2300.00}\n",
        "Product_2 = {'name': 'God of War 4', 'quantity': 1, 'price': 150.00}\n",
        "\n",
        "Shopping_Cart.append(Product_1)\n",
        "Shopping_Cart.append(Product_2)\n",
        "\n",
        "print(Shopping_Cart)\n",
        "print(type(Shopping_Cart))\n",
        "\n",
        "# Disadvantages of the same solution with lists and/or tuple - It is necessary know each specific product index\n",
        "\n",
        "# Solving with list\n",
        "Shopping_Cart2 = []\n",
        "Product_1 = ['Paystation 4', 1, 2300.00]\n",
        "Product_2 = ['God of War 4', 1, 150.00]\n",
        "\n",
        "Shopping_Cart2.append(Product_1)\n",
        "Shopping_Cart2.append(Product_2)\n",
        "\n",
        "print(Shopping_Cart2)\n",
        "print(type(Shopping_Cart2))\n",
        "\n",
        "# Solving with tuple\n",
        "Product_1 = ('Paystation 4', 1, 2300.00)\n",
        "Product_2 = ('God of War 4', 1, 150.00)\n",
        "\n",
        "Shopping_Cart3 = (Product_1, Product_2)\n",
        "print(Shopping_Cart3)\n",
        "print(type(Shopping_Cart3))\n"
      ],
      "execution_count": null,
      "outputs": []
    },
    {
      "cell_type": "code",
      "metadata": {
        "id": "m3yGMKizpmbe"
      },
      "source": [
        ""
      ],
      "execution_count": null,
      "outputs": []
    },
    {
      "cell_type": "code",
      "metadata": {
        "id": "7q8KiGDTpmYy"
      },
      "source": [
        ""
      ],
      "execution_count": null,
      "outputs": []
    },
    {
      "cell_type": "code",
      "metadata": {
        "id": "w2gbHwBfpmWO"
      },
      "source": [
        "Shopping_Cart:\n",
        "    Product 1:\n",
        "        - Name;\n",
        "        - quantity;\n",
        "        - price;\n",
        "    Product 2:\n",
        "        - Name;\n",
        "        - quantity;\n",
        "        - price;\n",
        "\n",
        "# 1 - Poderíamos utilizar uma Lista para isso? Sim\n",
        "\n",
        "Shopping_Cart = []\n",
        "\n",
        "produto1 = ['Paystation 4', 1, 2300.00]\n",
        "produto2 = ['God of War 4', 1, 150.00]\n",
        "\n",
        "Shopping_Cart.append(produto1)\n",
        "Shopping_Cart.append(produto2)\n",
        "\n",
        "print(Shopping_Cart)\n",
        "\n",
        "# Teríamos que saber qual é o índice de cada informação no produto.\n",
        "\n",
        "# 2 - Poderíamos utilizar uma Tupla para isso? Sim\n",
        "\n",
        "produto1 = ('Playstation 4', 1, 2300.00)\n",
        "produto2 = ('God of War 4', 1, 150.00)\n",
        "\n",
        "Shopping_Cart = (produto1, produto2)\n",
        "\n",
        "print(Shopping_Cart)\n",
        "\n",
        "# Teríamos que saber qual é o índice de cada informação no produto.\n",
        "\n",
        "# 3 - Poderíamos utilizar um Dicionário para isso? Sim\n",
        "\n",
        "Shopping_Cart = []\n",
        "\n",
        "produto1 = {'nome': 'Playstation 4', 'quantidade': 1, 'preco': 2300.00}\n",
        "produto2 = {'nome': 'God of War 4', 'quantidade': 1, 'preco': 150.00}\n",
        "\n",
        "Shopping_Cart.append(produto1)\n",
        "Shopping_Cart.append(produto2)\n",
        "\n",
        "print(Shopping_Cart)\n",
        "\n",
        "# Desta forma, facilmente adicionamos ou removemos produtos no carrinho e em cada produto\n",
        "# podemos ter a certeza sobre cada informação.\n"
      ],
      "execution_count": null,
      "outputs": []
    },
    {
      "cell_type": "markdown",
      "metadata": {
        "id": "KMfHvsEYrZCQ"
      },
      "source": [
        "### E) Strings\n",
        "\n",
        "String is sequence of Unicode characters. We can use single quotes or double quotes to represent strings. Multi-line strings can be denoted using triple quotes, ''' or \"\"\"."
      ]
    },
    {
      "cell_type": "markdown",
      "metadata": {
        "id": "125Jjooj7pao"
      },
      "source": [
        "- is in single quotation marks -> 'one string', '234', 'a', 'True', '42.3'.\n",
        "- is in double quotes -> 'one string', '234', 'a', 'True', '42.3'.\n",
        "- Be enclosed in single triple quotation marks -> '''one string'', '''234'', '''a''', '''True'', '''42.3'''"
      ]
    },
    {
      "cell_type": "code",
      "metadata": {
        "id": "grnpvlUq7Qs0"
      },
      "source": [
        "name = 'Thiago Carvalho'\n",
        "print(name)\n",
        "print(type(name))\n",
        "\n",
        "name2 = \"Rio de Janeiro - cidade maravilhosa\"\n",
        "print(name2)\n",
        "print(type(name2))\n",
        "\n",
        "name3 = \"\"\"Governador Valadares\"\"\"\n",
        "print(name3)\n",
        "print(type(name3))"
      ],
      "execution_count": null,
      "outputs": []
    },
    {
      "cell_type": "code",
      "metadata": {
        "id": "FiyMxo7h7QpG"
      },
      "source": [
        "# Text FORMATING\n",
        "\n",
        "print(name.upper())\n",
        "\n",
        "print(name.lower())\n",
        "\n",
        "print(name.title())\n",
        "\n"
      ],
      "execution_count": null,
      "outputs": []
    },
    {
      "cell_type": "code",
      "metadata": {
        "id": "ZFPUT5SC7QiR"
      },
      "source": [
        "#SLICE\n",
        "print(name3[0:4])  # Slice de string\n",
        "print(name3[5:15])  # Slice de string"
      ],
      "execution_count": null,
      "outputs": []
    },
    {
      "cell_type": "code",
      "metadata": {
        "id": "JHpKeko-7QbU"
      },
      "source": [
        "# SPLIT\n",
        "print(name2.split()) # transforms the string in a list made of strings\n",
        "print(name2.split()[0]) # splits the string printing the element by index\n",
        "print(name2.split()[1]) # splits the string printing the element by index"
      ],
      "execution_count": null,
      "outputs": []
    },
    {
      "cell_type": "code",
      "metadata": {
        "id": "5nvt5Fwn7QMZ"
      },
      "source": [
        "# DUPLICATE string\n",
        "\n",
        "name4= name3*2\n",
        "print(name4)\n",
        "print(type(name4))"
      ],
      "execution_count": null,
      "outputs": []
    },
    {
      "cell_type": "markdown",
      "metadata": {
        "id": "9REVvqA1sMjw"
      },
      "source": [
        "### F) Sets\n",
        "\n",
        "Set is an unordered collection of unique items. Set is defined by values separated by comma inside braces { }. Items in a set are not ordered."
      ]
    },
    {
      "cell_type": "markdown",
      "metadata": {
        "id": "YcuJAY4Gz-Fy"
      },
      "source": [
        "We can perform set operations like union, intersection on two sets. Sets have unique values. They eliminate duplicates."
      ]
    },
    {
      "cell_type": "code",
      "metadata": {
        "id": "LEzPgDOS0BTy"
      },
      "source": [
        "#CREATE a set\n",
        "\n",
        "# Option 1 - more used\n",
        "s1 = {1, 2, 3, 4, 5, 5} # repeated value are not stored\n",
        "print(s1)\n",
        "print(type(s1))\n",
        "\n",
        "#Option 2\n",
        "s2 = set({1, 2, 3, 4, 5, 5,  6, 7, 2, 3})  # repeated value are not stored\n",
        "print(s2)\n",
        "print(type(s2))"
      ],
      "execution_count": null,
      "outputs": []
    },
    {
      "cell_type": "code",
      "metadata": {
        "id": "NtR1Fx3xgZug"
      },
      "source": [
        "# Set FEATURES \n",
        "# the same group of numbers in a type comparison\n",
        "\n",
        "# List (10 elements)\n",
        "list = [99, 2, 34, 23, 2, 12, 1, 44, 5, 34]\n",
        "print(f'List: {list} com {len(list)} elements')\n",
        "\n",
        "# Tuple (10 elements)\n",
        "tuple = 99, 2, 34, 23, 2, 12, 1, 44, 5, 34\n",
        "print(f'Tuple: {tuple}  com {len(tuple)} elements')\n",
        "\n",
        "# Dict (do not accept duplicate keys, so we've 8 elements)\n",
        "dictionary = {}.fromkeys([99, 2, 34, 23, 2, 12, 1, 44, 5, 34], 'dict')\n",
        "print(f'Dict: {dictionary}  com {len(dictionary)} elements')\n",
        "\n",
        "# Sets (do not accept duplicate keys, so we've 8 elements)\n",
        "set = {99, 2, 34, 23, 2, 12, 1, 44, 5, 34}\n",
        "print(f'Set: {set}  com {len(set)} elements')"
      ],
      "execution_count": null,
      "outputs": []
    },
    {
      "cell_type": "code",
      "metadata": {
        "id": "LWz37UhAgZ0Q"
      },
      "source": [
        "#Sets accept all type elements\n",
        "s3 = {1, 'b', True, 34.22, 44}\n",
        "print(s3)\n",
        "print(type(s3))"
      ],
      "execution_count": null,
      "outputs": []
    },
    {
      "cell_type": "code",
      "metadata": {
        "id": "Xe3KBXjYgZxl"
      },
      "source": [
        "# LOCATE - Looking for an element on a set\n",
        "if 3 in s1:\n",
        "    print('has the number 3')\n",
        "else:\n",
        "    print('there is no number 3')"
      ],
      "execution_count": null,
      "outputs": []
    },
    {
      "cell_type": "code",
      "metadata": {
        "id": "YwPDVCPzgZ4b"
      },
      "source": [
        "# ADDING elements\n",
        "s4 = {1, 2, 3}\n",
        "s4.add(4)\n",
        "s4.add(4)  # Duplicity does not shows error\n",
        "print(s4)"
      ],
      "execution_count": null,
      "outputs": []
    },
    {
      "cell_type": "code",
      "metadata": {
        "id": "yyZABJNhgZ6f"
      },
      "source": [
        "# COPY\n",
        "# Deep Copy\n",
        "newset = s4.copy()\n",
        "print(newset)\n",
        "\n",
        "newset.add(8)\n",
        "print(newset)\n",
        "print(s4)\n",
        "\n",
        "# Shallow Copy\n",
        "newset2 = newset\n",
        "\n",
        "newset2.add(300)\n",
        "print(newset2)\n",
        "print(newset)"
      ],
      "execution_count": null,
      "outputs": []
    },
    {
      "cell_type": "code",
      "metadata": {
        "id": "TGaZ_OO8kRTm"
      },
      "source": [
        "# REMOVE specific elements\n",
        "s5 = {1, 2, 3}\n",
        "print(s5)\n",
        "\n",
        "# Option 1\n",
        "s5.remove(3)  # if there is no mach it does not shows error\n",
        "print(s5)\n",
        "\n",
        "# Option 2\n",
        "s5.discard(2)\n",
        "print(s5)\n",
        "\n",
        "# REMOVE all elements\n",
        "print(s5)\n",
        "s5.clear()\n",
        "print(s5)"
      ],
      "execution_count": null,
      "outputs": []
    },
    {
      "cell_type": "code",
      "metadata": {
        "id": "-nCvty8MkRNY"
      },
      "source": [
        "# OPERATIONS with sets\n",
        "# sum*, Maximum value*, minimum value*, lenght\n",
        "# * If all elements of the set are numbers\n",
        "\n",
        "s8 = {1, 2, 3, 4, 5, 6}\n",
        "\n",
        "print(sum(s8))\n",
        "print(max(s8))\n",
        "print(min(s8))\n",
        "print(len(s8))"
      ],
      "execution_count": null,
      "outputs": []
    },
    {
      "cell_type": "code",
      "metadata": {
        "id": "QVtNPgV8gZ9c"
      },
      "source": [
        "# ITERATING with sets\n",
        "for valor in s8:\n",
        "    print(valor)"
      ],
      "execution_count": null,
      "outputs": []
    },
    {
      "cell_type": "code",
      "metadata": {
        "id": "D156_mEj0ALe"
      },
      "source": [
        "students_python = {'Marcos', 'Patricia', 'Ellen', 'Pedro', 'Julia', 'Guilherme'}\n",
        "students_R = {'Fernando', 'Gustavo', 'Julia', 'Ana', 'Patricia'}\n",
        "\n",
        "# UNION - returns a set that contains all items from the original set, and all items from the specified sets.\n",
        "\n",
        "#Option1\n",
        "unique = students_python.union(students_R)\n",
        "print(unique)\n",
        "\n",
        "#Option2\n",
        "unique2 = students_python | students_R\n",
        "print(unique2)"
      ],
      "execution_count": null,
      "outputs": []
    },
    {
      "cell_type": "code",
      "metadata": {
        "id": "us7WhBcG1HFY"
      },
      "source": [
        "#INTERSECTION - Returns a set, that is the intersection of two other sets\n",
        "\n",
        "# Option 1 \n",
        "both = students_python.intersection(students_R)\n",
        "print(both)\n",
        "\n",
        "# Option 2 \n",
        "both2 = students_python & students_R\n",
        "print(both2)"
      ],
      "execution_count": null,
      "outputs": []
    },
    {
      "cell_type": "code",
      "metadata": {
        "id": "b60MWqB2gaCa"
      },
      "source": [
        "#DIFFERENCE - \tReturns a set containing the difference between two or more sets\n",
        "\n",
        "only_study_python = students_python.difference(students_R)\n",
        "print(only_study_python)\n",
        "\n",
        "only_study_R = students_R.difference(students_python)\n",
        "print(only_study_R)\n",
        "\n"
      ],
      "execution_count": null,
      "outputs": []
    },
    {
      "cell_type": "markdown",
      "metadata": {
        "id": "CKF2lr1ftQQQ"
      },
      "source": [
        "### G) Boolean\n",
        "\n",
        "In programming you often need to know if an expression is True or False.\n",
        "\n",
        "You can evaluate any expression in Python, and get one of two answers, True or False.\n",
        "\n",
        "In Python, True represents the value as 1 and False as 0. \n",
        "\n",
        "When you compare two values, the expression is evaluated and Python returns the Boolean answer\n",
        "\n"
      ]
    },
    {
      "cell_type": "code",
      "metadata": {
        "id": "SiX4XRuM2aLO"
      },
      "source": [
        "print(10 > 9)\n",
        "print(10 == 9)\n",
        "print(10 < 9)"
      ],
      "execution_count": null,
      "outputs": []
    },
    {
      "cell_type": "code",
      "metadata": {
        "id": "4zGglakI2aIp"
      },
      "source": [
        "#STATEMENT\n",
        "active = True\n",
        "print(active)"
      ],
      "execution_count": null,
      "outputs": []
    },
    {
      "cell_type": "code",
      "metadata": {
        "id": "TOse1jBB2aGP"
      },
      "source": [
        "#DENIAL\n",
        "print(not active)"
      ],
      "execution_count": null,
      "outputs": []
    },
    {
      "cell_type": "code",
      "metadata": {
        "id": "0OSR9HBs2aDi"
      },
      "source": [
        "#LOGICAL OPERATORS\n",
        "\n",
        "#OR - at least one must be True to be considered True\n",
        "\n",
        "\"\"\"\n",
        "True or True -> True\n",
        "True or False -> True\n",
        "False or True -> True\n",
        "False or False -> False\n",
        "\"\"\"\n",
        "\n",
        "#AND - Both must be True to be considered True\n",
        "\n",
        "\"\"\"\n",
        "True and True -> True\n",
        "True and False -> False\n",
        "False and True -> False\n",
        "False and False -> False\n",
        "\"\"\""
      ],
      "execution_count": null,
      "outputs": []
    },
    {
      "cell_type": "code",
      "metadata": {
        "id": "_xaB_o7p2aA-"
      },
      "source": [
        "#ITERATE using boleans\n",
        "a = 200\n",
        "b = 33\n",
        "\n",
        "if b > a:\n",
        "  print(\"b is greater than a\")\n",
        "else:\n",
        "  print(\"b is not greater than a\")"
      ],
      "execution_count": null,
      "outputs": []
    },
    {
      "cell_type": "code",
      "metadata": {
        "id": "F6FAA7vq2Z-g"
      },
      "source": [
        "# FALSE values\n",
        "\n",
        "bool(False)\n",
        "bool(None)\n",
        "bool(0)\n",
        "bool(\"\")\n",
        "bool(())\n",
        "bool([])\n",
        "bool({})"
      ],
      "execution_count": null,
      "outputs": []
    },
    {
      "cell_type": "code",
      "metadata": {
        "id": "wx2aPkfR2Z72"
      },
      "source": [
        "# TRUE values\n",
        "\"\"\"\u001c\n",
        "Almost any value is evaluated to True if it has some sort of content.\n",
        "Any string is True, except empty strings.\n",
        "Any number is True, except 0.\n",
        "Any list, tuple, set, and dictionary are True, except empty ones.\n",
        "\"\"\"\n",
        "\n",
        "bool(\"abc\")\n",
        "bool(123)\n",
        "bool([\"apple\", \"cherry\", \"banana\"])\n"
      ],
      "execution_count": null,
      "outputs": []
    },
    {
      "cell_type": "markdown",
      "metadata": {
        "id": "yzdhsmQZOT8u"
      },
      "source": [
        "##CONDITIONALS"
      ]
    },
    {
      "cell_type": "markdown",
      "metadata": {
        "id": "Cgj-ZiSEWBUg"
      },
      "source": [
        "### A) LOGICAL OPERATORS"
      ]
    },
    {
      "cell_type": "markdown",
      "metadata": {
        "id": "vGtyMR79XIU2"
      },
      "source": [
        "*   Equals: a == b\n",
        "*   Not Equals: a != b\n",
        "*   Less than: a < b\n",
        "*   Less than or equal to: a <= b\n",
        "*   Greater than: a > b\n",
        "*   Greater than or equal to: a >= b"
      ]
    },
    {
      "cell_type": "code",
      "metadata": {
        "id": "iFj-NAlFeRUl"
      },
      "source": [
        "# OR\n",
        "# is used to combine conditional statements\n",
        "\n",
        "a = 5\n",
        "b = 7\n",
        "c = 1\n",
        "if a > b or a > c:\n",
        "  print(\"At least one of the conditions is True\")"
      ],
      "execution_count": null,
      "outputs": []
    },
    {
      "cell_type": "code",
      "metadata": {
        "id": "-Gl5ENyMeP1m"
      },
      "source": [
        "# AND\n",
        "# is used to combine conditional statements:\n",
        "\n",
        "a = 50\n",
        "b = 70\n",
        "c = 10\n",
        "if b > a and a > c:\n",
        "  print(\"Both conditions are True\")\n"
      ],
      "execution_count": null,
      "outputs": []
    },
    {
      "cell_type": "markdown",
      "metadata": {
        "id": "g7dByuJqeOVi"
      },
      "source": [
        ""
      ]
    },
    {
      "cell_type": "markdown",
      "metadata": {
        "id": "ITb4nmQIXPFs"
      },
      "source": [
        "###B) IF"
      ]
    },
    {
      "cell_type": "markdown",
      "metadata": {
        "id": "dJ-Jcy-pX1kg"
      },
      "source": [
        "Sintax\n",
        "```\n",
        "if test expression:\n",
        "    statement(s)\n",
        "```\n",
        "Here, the program will execute statement(s) **only if the test expression is True.** \n",
        "\n",
        "If the test expression is False, the statement(s) is not executed.\n"
      ]
    },
    {
      "cell_type": "code",
      "metadata": {
        "id": "Ixd0JsHXX0sd"
      },
      "source": [
        "# Printing msgs\n",
        "num = 3\n",
        "if num > 0:\n",
        "    print(num, \"is a positive number.\")\n",
        "print(\"This is always printed.\")\n",
        "\n",
        "num = -1\n",
        "if num > 0:\n",
        "    print(num, \"is a positive number.\")\n",
        "print(\"This is also always printed.\")"
      ],
      "execution_count": null,
      "outputs": []
    },
    {
      "cell_type": "markdown",
      "metadata": {
        "id": "nIaG8UFdZCk9"
      },
      "source": [
        "In the above example, num > 0 is the test expression.\n",
        "\n",
        "The body of if is executed only if this evaluates to True.\n",
        "\n",
        "When the variable num is equal to 3, test expression is true and statements inside the body of if are executed.\n",
        "\n",
        "If the variable num is equal to -1, test expression is false and statements inside the body of if are skipped.\n",
        "\n",
        "The print() statement falls outside of the if block (unindented). Hence, it is executed regardless of the test expression."
      ]
    },
    {
      "cell_type": "code",
      "metadata": {
        "id": "4qV6HKJFWvsj"
      },
      "source": [
        "# camparing 2 numbers \n",
        "a = 10\n",
        "b = 20\n",
        "if b > a:\n",
        "  print(\"b is greater than a\")"
      ],
      "execution_count": null,
      "outputs": []
    },
    {
      "cell_type": "markdown",
      "metadata": {
        "id": "2PKaKfvNXnk5"
      },
      "source": [
        "Python relies on indentation (whitespace at the beginning of a line) to define scope in the code. Other programming languages often use curly-brackets for this purpose."
      ]
    },
    {
      "cell_type": "markdown",
      "metadata": {
        "id": "e97v3EckZsfx"
      },
      "source": [
        "###C) ELIF"
      ]
    },
    {
      "cell_type": "markdown",
      "metadata": {
        "id": "GhfpQVMNZ0YS"
      },
      "source": [
        "The elif is the way of saying \"if the previous conditions were not true, then try this condition\".\n",
        "\n",
        "The elif is short for else if. It allows us to check for multiple expressions."
      ]
    },
    {
      "cell_type": "code",
      "metadata": {
        "id": "4Q7J6DZjZ7Ti"
      },
      "source": [
        "a = 10\n",
        "b = 10\n",
        "if b > a:\n",
        "  print(\"b is greater than a\")\n",
        "elif a == b:\n",
        "  print(\"a and b are equal\")\n",
        "elif a > b:\n",
        "  print(\"a is greater than b\")"
      ],
      "execution_count": null,
      "outputs": []
    },
    {
      "cell_type": "markdown",
      "metadata": {
        "id": "Q_oXr8MgZMC2"
      },
      "source": [
        "###D) IF ... ELSE"
      ]
    },
    {
      "cell_type": "markdown",
      "metadata": {
        "id": "ddbcgJSsacoL"
      },
      "source": [
        "Sintax\n",
        "```\n",
        "if test expression:\n",
        "    Body of if\n",
        "else:\n",
        "    Body of else\n",
        "```\n",
        "The if..else statement evaluates test expression and will execute the body of if only when the test condition is True.\n",
        "\n",
        "If the condition is False, the body of else is executed. Indentation is used to separate the blocks.\n"
      ]
    },
    {
      "cell_type": "code",
      "metadata": {
        "id": "U2fKOqSaaxH7"
      },
      "source": [
        "# Program checks if the number is positive or negative\n",
        "# And displays an appropriate message\n",
        "\n",
        "num = 3\n",
        "\n",
        "if num >= 0:\n",
        "    print(\"Positive or Zero\")\n",
        "else:\n",
        "    print(\"Negative number\")"
      ],
      "execution_count": null,
      "outputs": []
    },
    {
      "cell_type": "code",
      "metadata": {
        "id": "SGb_2W1abWhh"
      },
      "source": [
        "num = 0\n",
        "\n",
        "if num >= 0:\n",
        "    print(\"Positive or Zero\")\n",
        "else:\n",
        "    print(\"Negative number\")"
      ],
      "execution_count": null,
      "outputs": []
    },
    {
      "cell_type": "code",
      "metadata": {
        "id": "5FGvumrBbZJi"
      },
      "source": [
        "num = -5\n",
        "\n",
        "if num >= 0:\n",
        "    print(\"Positive or Zero\")\n",
        "else:\n",
        "    print(\"Negative number\")"
      ],
      "execution_count": null,
      "outputs": []
    },
    {
      "cell_type": "code",
      "metadata": {
        "id": "fwoNCVREbWVP"
      },
      "source": [
        "# Nested IF\n",
        "\n",
        "num = float(input(\"Enter a number: \"))\n",
        "if num >= 0:\n",
        "    if num == 0:\n",
        "        print(\"Zero\")\n",
        "    else:\n",
        "        print(\"Positive number\")\n",
        "else:\n",
        "    print(\"Negative number\")"
      ],
      "execution_count": null,
      "outputs": []
    },
    {
      "cell_type": "markdown",
      "metadata": {
        "id": "NX8VL-7vaxrj"
      },
      "source": [
        "###E) IF ... ELIF ... ELSE"
      ]
    },
    {
      "cell_type": "markdown",
      "metadata": {
        "id": "Cj23uTeQcreT"
      },
      "source": [
        "Sintax\n",
        "```\n",
        "if test expression:\n",
        "    Body of if\n",
        "elif test expression:\n",
        "    Body of elif\n",
        "else: \n",
        "    Body of else\n",
        "```\n",
        "If the condition for if is False, it checks the condition of the next elif block and so on.\n",
        "\n",
        "If all the conditions are False, the body of else is executed.\n",
        "\n",
        "Only one block among the several if...elif...else blocks is executed according to the condition."
      ]
    },
    {
      "cell_type": "code",
      "metadata": {
        "id": "WQO_bdf2gje9"
      },
      "source": [
        "num = 340\n",
        "\n",
        "if num > 0:\n",
        "    print(\"Positive number\")\n",
        "elif num == 0:\n",
        "    print(\"Zero\")\n",
        "else:\n",
        "    print(\"Negative number\")"
      ],
      "execution_count": null,
      "outputs": []
    },
    {
      "cell_type": "code",
      "metadata": {
        "id": "2PrMKvIvgrHA"
      },
      "source": [
        "num = 0\n",
        "\n",
        "if num > 0:\n",
        "    print(\"Positive number\")\n",
        "elif num == 0:\n",
        "    print(\"Zero\")\n",
        "else:\n",
        "    print(\"Negative number\")"
      ],
      "execution_count": null,
      "outputs": []
    },
    {
      "cell_type": "code",
      "metadata": {
        "id": "XzD31eW7gqaI"
      },
      "source": [
        "num = -5\n",
        "\n",
        "if num > 0:\n",
        "    print(\"Positive number\")\n",
        "elif num == 0:\n",
        "    print(\"Zero\")\n",
        "else:\n",
        "    print(\"Negative number\")"
      ],
      "execution_count": null,
      "outputs": []
    },
    {
      "cell_type": "code",
      "metadata": {
        "id": "5_y83AqEbz89"
      },
      "source": [
        "age= 20\n",
        "\n",
        "if age < 18:\n",
        "    print('underage player')\n",
        "elif age >= 18 and age <= 21 :\n",
        "    print(f'the player has exactly {age} y.o')\n",
        "else:\n",
        "    print('the player is of legal age')\n"
      ],
      "execution_count": null,
      "outputs": []
    },
    {
      "cell_type": "markdown",
      "metadata": {
        "id": "VbtbXz8F67No"
      },
      "source": [
        "##REPETITION STRUCTURES - LOOPS\n",
        "\n"
      ]
    },
    {
      "cell_type": "markdown",
      "metadata": {
        "id": "_DOFig1I67KU"
      },
      "source": [
        "###A) FOR\n",
        "A for loop is used for iterating over a sequence (that is either a list, a tuple, a dictionary, a set, or a string)."
      ]
    },
    {
      "cell_type": "markdown",
      "metadata": {
        "id": "l4OKvR8jAcCy"
      },
      "source": [
        "\n",
        "This is less like the for keyword in other programming languages, and works more like an iterator method as found in other object-orientated programming languages.\n",
        "\n",
        "With the for loop we can execute a set of statements, once for each item in a list, tuple, set etc."
      ]
    },
    {
      "cell_type": "markdown",
      "metadata": {
        "id": "GNvLoFV4BJzK"
      },
      "source": [
        "####Sintax\n",
        "\n",
        "```\n",
        "for val in sequence:\n",
        "\tBody of for\n",
        "```\n",
        "val-->is the variable that takes the value of the item inside the sequence on each iteration.\n",
        "\n",
        "sequence --> loop continues until we reach the last item in the sequence. \n",
        "\n",
        "Body --> the body of for loop is separated from the rest of the code using indentation."
      ]
    },
    {
      "cell_type": "code",
      "metadata": {
        "id": "Cv1aaDat__vr"
      },
      "source": [
        "# List of integer numbers\n",
        "numbers = [1, 2, 4, 6, 11, 20]\n",
        "\n",
        "# variable to store the square of each num temporary\n",
        "sq = 0\n",
        "\n",
        "# iterating over the given list\n",
        "for val in numbers:\n",
        "    # calculating square of each number\n",
        "    sq = val * val\n",
        "    # displaying the squares\n",
        "    print(sq)"
      ],
      "execution_count": null,
      "outputs": []
    },
    {
      "cell_type": "code",
      "metadata": {
        "id": "j4UZawS3ACFF"
      },
      "source": [
        "# String\n",
        "name = 'Thiago Carvalho'\n",
        "\n",
        "for letter in name:\n",
        "    print(letter)"
      ],
      "execution_count": null,
      "outputs": []
    },
    {
      "cell_type": "code",
      "metadata": {
        "id": "WhUU7UizC5un"
      },
      "source": [
        "# Dict (using the string as source)\n",
        "\n",
        "name2 = 'Rio de Janeiro'\n",
        "\n",
        "for index, letter in enumerate(name2):\n",
        "    print(letter)\n",
        "\n",
        "for _, letter in enumerate(name2): #removing index with _\n",
        "    print(letter)"
      ],
      "execution_count": null,
      "outputs": []
    },
    {
      "cell_type": "code",
      "metadata": {
        "id": "QyWFqWvTACRN"
      },
      "source": [
        "\n"
      ],
      "execution_count": null,
      "outputs": []
    },
    {
      "cell_type": "markdown",
      "metadata": {
        "id": "VZ7cNSQq8qj9"
      },
      "source": [
        "#### BREAK\n",
        "With the break statement we can stop the loop before it has looped through all the items:"
      ]
    },
    {
      "cell_type": "code",
      "metadata": {
        "id": "f36KAJibGhzN"
      },
      "source": [
        "#Exit the loop when x is \"banana\":\n",
        "\n",
        "fruits = [\"apple\", \"banana\", \"cherry\"]\n",
        "for x in fruits:\n",
        "  print(x)\n",
        "  if x == \"banana\":\n",
        "    break\n",
        "\n"
      ],
      "execution_count": null,
      "outputs": []
    },
    {
      "cell_type": "markdown",
      "metadata": {
        "id": "rxROVzB98xQQ"
      },
      "source": [
        "#### CONTINUE\n",
        "With the continue statement we can stop the current iteration of the loop, and continue with the next:\n"
      ]
    },
    {
      "cell_type": "code",
      "metadata": {
        "id": "LNFNFCmXHNxf"
      },
      "source": [
        "fruits = [\"apple\", \"banana\", \"cherry\"]\n",
        "for x in fruits:\n",
        "  if x == \"banana\":\n",
        "    continue\n",
        "  print(x)"
      ],
      "execution_count": null,
      "outputs": []
    },
    {
      "cell_type": "markdown",
      "metadata": {
        "id": "HdQHjr5ZHlDz"
      },
      "source": [
        "#### RANGE\n",
        "To loop through a set of code a specified number of times, we can use the range() function."
      ]
    },
    {
      "cell_type": "code",
      "metadata": {
        "id": "tS4s4B4pHfn6"
      },
      "source": [
        "# The range() function returns a sequence of numbers, starting from 0 by default, \n",
        "# and increments by 1 (by default), and ends at a specified number.\n",
        "\n",
        "for x in range(6): #Note that is not the values of 0 to 6, but the values 0 to 5.\n",
        "  print(x)"
      ],
      "execution_count": null,
      "outputs": []
    },
    {
      "cell_type": "code",
      "metadata": {
        "id": "yCXe1yqPJBbN"
      },
      "source": [
        "for x in range(2, 6):\n",
        "  print(x)"
      ],
      "execution_count": null,
      "outputs": []
    },
    {
      "cell_type": "markdown",
      "metadata": {
        "id": "RjQ2TeTc8z47"
      },
      "source": [
        "#### ELSE\n",
        "The else keyword in a for loop specifies a block of code to be executed when the loop is finished:"
      ]
    },
    {
      "cell_type": "code",
      "metadata": {
        "id": "CrSlvzTkKfzN"
      },
      "source": [
        "for x in range(4):\n",
        "  print(x)\n",
        "else:\n",
        "  print(\"The end of the road!\")"
      ],
      "execution_count": null,
      "outputs": []
    },
    {
      "cell_type": "markdown",
      "metadata": {
        "id": "JKngLrhbHpfd"
      },
      "source": [
        "#### NESTED LOOPS FOR\n",
        "The \"inner loop\" will be executed one time for each iteration of the \"outer loop\":"
      ]
    },
    {
      "cell_type": "code",
      "metadata": {
        "id": "IZuaoZ4qLDQ_"
      },
      "source": [
        "adj = [\"red\", \"big\", \"tasty\"]\n",
        "fruits = [\"apple\", \"banana\", \"cherry\"]\n",
        "\n",
        "for x in adj:\n",
        "  for y in fruits:\n",
        "    print(x, y)"
      ],
      "execution_count": null,
      "outputs": []
    },
    {
      "cell_type": "markdown",
      "metadata": {
        "id": "GoLMbWiHJhSl"
      },
      "source": [
        "###B) WHILE\n",
        "With the while loop we can execute a set of statements as long as a condition is true."
      ]
    },
    {
      "cell_type": "code",
      "metadata": {
        "id": "hudAXH_kJgvc"
      },
      "source": [
        "i = 1\n",
        "while i < 6:\n",
        "  print(i)\n",
        "  i += 1\n",
        "\n",
        "#The while loop requires relevant variables to be ready, \n",
        "#in this example we need to define an indexing variable, i, which we set to 1."
      ],
      "execution_count": null,
      "outputs": []
    },
    {
      "cell_type": "code",
      "metadata": {
        "id": "d3i9AhTXMs6k"
      },
      "source": [
        "# With BREAK we can stop the loop even if the while condition is true:\n",
        "i = 1\n",
        "while i < 6:\n",
        "  print(i)\n",
        "  if i == 3:\n",
        "    break\n",
        "  i += 1"
      ],
      "execution_count": null,
      "outputs": []
    },
    {
      "cell_type": "code",
      "metadata": {
        "id": "AViu0dJxMs3c"
      },
      "source": [
        "# With CONTINUE we can stop the current iteration, and continue with the next:\n",
        "i = 0\n",
        "while i < 6:\n",
        "  i += 1\n",
        "  if i == 3:\n",
        "    continue\n",
        "  print(i)"
      ],
      "execution_count": null,
      "outputs": []
    },
    {
      "cell_type": "code",
      "metadata": {
        "id": "ixEHANxUMsz3"
      },
      "source": [
        "#With ELSE we can run a block of code once when the condition no longer is true:\n",
        "i = 1\n",
        "while i < 6:\n",
        "  print(i)\n",
        "  i += 1\n",
        "else:\n",
        "  print(\"i is no longer less than 6\")"
      ],
      "execution_count": null,
      "outputs": []
    },
    {
      "cell_type": "code",
      "metadata": {
        "id": "XZ5aljmUMsl4"
      },
      "source": [
        ""
      ],
      "execution_count": null,
      "outputs": []
    },
    {
      "cell_type": "markdown",
      "metadata": {
        "id": "Jjqk4VfaGnqg"
      },
      "source": [
        ""
      ]
    },
    {
      "cell_type": "markdown",
      "metadata": {
        "id": "szoH6bHw6y_x"
      },
      "source": [
        "##FUNCTIONS"
      ]
    },
    {
      "cell_type": "markdown",
      "metadata": {
        "id": "CcWgOBOtjX2H"
      },
      "source": [
        "A function is a block of code that performs a specific task when it is called.\n",
        "\n",
        "You can pass data, known as parameters, into a function. A function can return data as a result.\n",
        "\n",
        "Functions help break our program into smaller and modular chunks. As our program grows larger and larger, functions make it more organized and manageable."
      ]
    },
    {
      "cell_type": "markdown",
      "metadata": {
        "id": "cda0svuxjhhB"
      },
      "source": [
        "####Sintax\n",
        "```\n",
        "def function_name(function_parameters):\n",
        "  \"\"\"docstring\"\"\"\n",
        "\tfunction_body # Set of Python statements\n",
        "        return # optional return statement\n",
        "```\n",
        "* **def** marks the start of the function header.\n",
        "* **function name** to uniquely identify the function.\n",
        "* **docstring** optional description\n",
        "* **Parameters** (arguments) through which we pass values to a function.\n",
        "* **(:)** mark the end of the function header.\n",
        "* **Function_body** One or more valid python statements that make up the function body. \n",
        "* **return** optional statement to return a value from the function."
      ]
    },
    {
      "cell_type": "code",
      "metadata": {
        "id": "xnIj9tOkjXay"
      },
      "source": [
        "def greet(name):\n",
        "    \"\"\"\n",
        "    This function greets to\n",
        "    the person passed in as\n",
        "    a parameter\n",
        "    \"\"\"\n",
        "    print(f\"Hello, {name}. Good morning!\")\n",
        "\n",
        "greet('World')\n"
      ],
      "execution_count": null,
      "outputs": []
    },
    {
      "cell_type": "markdown",
      "metadata": {
        "id": "wLnJDq26897J"
      },
      "source": [
        "###A) Calling a Function"
      ]
    },
    {
      "cell_type": "markdown",
      "metadata": {
        "id": "9GxvZBcYpiKT"
      },
      "source": [
        "When function doesn't return anything\n",
        "```\n",
        "function_name(parameters)\n",
        "```"
      ]
    },
    {
      "cell_type": "code",
      "metadata": {
        "id": "gLyzfzEKjW7x"
      },
      "source": [
        "greet('World')"
      ],
      "execution_count": null,
      "outputs": []
    },
    {
      "cell_type": "markdown",
      "metadata": {
        "id": "bjwfIvAA894F"
      },
      "source": [
        "###B) Arguments"
      ]
    },
    {
      "cell_type": "markdown",
      "metadata": {
        "id": "jL5sdlZrrPjK"
      },
      "source": [
        "Information can be passed into functions as arguments.\n",
        "\n",
        "Arguments are specified after the function name, inside the parentheses. You can add as many arguments as you want, just separate them with a comma.\n",
        "\n",
        "#####From a function's perspective:\n",
        "\n",
        "A parameter is the variable listed inside the parentheses in the function definition.\n",
        "\n",
        "An argument is the value that is sent to the function when it is called."
      ]
    },
    {
      "cell_type": "code",
      "metadata": {
        "id": "t2Pq6f9hp5rT"
      },
      "source": [
        "def my_function(XYZ):\n",
        "  print(f'{XYZ} is something amazing')\n",
        "\n",
        "my_function(\"Email\")\n",
        "my_function(\"Website\")\n",
        "my_function(\"Data lake\")"
      ],
      "execution_count": null,
      "outputs": []
    },
    {
      "cell_type": "markdown",
      "metadata": {
        "id": "Z_WIWKBdqKZE"
      },
      "source": [
        "###C) Number of Arguments\n",
        "\n"
      ]
    },
    {
      "cell_type": "markdown",
      "metadata": {
        "id": "GN6OPTr8rem1"
      },
      "source": [
        "By default, a function must be called with the correct number of arguments. Meaning that if your function expects 2 arguments, you have to call the function with 2 arguments, not more, and not less."
      ]
    },
    {
      "cell_type": "code",
      "metadata": {
        "id": "iC7ZLxypqO4w"
      },
      "source": [
        "def my_function(fname, lname):\n",
        "  print(fname+\" \"+lname)\n",
        "\n",
        "my_function(\"Thiago\", \"Carvalho\")"
      ],
      "execution_count": null,
      "outputs": []
    },
    {
      "cell_type": "markdown",
      "metadata": {
        "id": "7YuY2znQ891e"
      },
      "source": [
        "###D) Arbitrary Arguments, *args"
      ]
    },
    {
      "cell_type": "markdown",
      "metadata": {
        "id": "YfwJg7twteru"
      },
      "source": [
        "If you do not know how many arguments that will be passed into your function, add a * before the parameter name in the function definition.\n",
        "\n",
        "This way the function will receive a tuple of arguments, and can access the items accordingly:\n",
        "\n"
      ]
    },
    {
      "cell_type": "code",
      "metadata": {
        "id": "jEtSlXI9utOK"
      },
      "source": [
        "def my_function(*kids):\n",
        "  print(\"The youngest child is \" + kids[2])\n",
        "\n",
        "my_function(\"Older\", \"Middle\", \"Younger\")"
      ],
      "execution_count": null,
      "outputs": []
    },
    {
      "cell_type": "code",
      "metadata": {
        "id": "EMOA27gRvagq"
      },
      "source": [
        "def sum_all_numbers(name, email, *args):\n",
        "    return sum(args)\n",
        "\n",
        "\n",
        "print(sum_all_numbers('Thiago', 'Carvalho'))\n",
        "print(sum_all_numbers('Thiago', 'Carvalho', 1))\n",
        "print(sum_all_numbers('Thiago', 'Carvalho', 2, 3))\n",
        "print(sum_all_numbers('Thiago', 'Carvalho', 2, 3, 4))\n",
        "print(sum_all_numbers('Thiago', 'Carvalho', 3, 4, 5, 6))\n",
        "print(sum_all_numbers('Thiago', 'Carvalho', 23.4, 12.5))"
      ],
      "execution_count": null,
      "outputs": []
    },
    {
      "cell_type": "code",
      "metadata": {
        "id": "7D7gOLl9xU5S"
      },
      "source": [
        "def check_info(*args):\n",
        "    if 'Thiago' in args and 'Carvalho' in args:\n",
        "        return 'Welcome, Thiago!'\n",
        "    return \"I am not sure who you are...\" \n",
        "\n",
        "\n",
        "print(check_info())\n",
        "print(check_info(1, True, 'Carvalho', 'Thiago'))\n",
        "print(check_info(1, 'Carvalho', 3.145))"
      ],
      "execution_count": null,
      "outputs": []
    },
    {
      "cell_type": "code",
      "metadata": {
        "id": "HSIfhGMSye1w"
      },
      "source": [
        "def greet(*names):\n",
        "    \"\"\"This function greets all\n",
        "    the person in the names tuple.\"\"\"\n",
        "\n",
        "    # names is a tuple with arguments\n",
        "    for name in names:\n",
        "        print(\"Welcome\", name)\n",
        "\n",
        "\n",
        "greet(\"Milton\", \"Thiago\", \"Priscila\", \"Bruno\")"
      ],
      "execution_count": null,
      "outputs": []
    },
    {
      "cell_type": "code",
      "metadata": {
        "id": "4G_uxjSe3OlU"
      },
      "source": [
        "def world_cup_titles(country, *args):\n",
        "    print(f'Country: {country}')\n",
        "    for title in args:\n",
        "        print(f'year: {title}')\n",
        "\n",
        "\n",
        "world_cup_titles('Brazil', '1958', '1962', '1970', '1994', '2002')\n",
        "world_cup_titles('Spain', '2010')"
      ],
      "execution_count": null,
      "outputs": []
    },
    {
      "cell_type": "markdown",
      "metadata": {
        "id": "nZgdDxa289yr"
      },
      "source": [
        "###D) Arbitrary Keyword Arguments, **kwargs"
      ]
    },
    {
      "cell_type": "markdown",
      "metadata": {
        "id": "bmI4UyY-wJG3"
      },
      "source": [
        "If you do not know how many keyword arguments that will be passed into your function, add two asterisk: ** before the parameter name in the function definition.\n",
        "\n",
        "This way the function will receive a dictionary of arguments, and can access the items accordingly:"
      ]
    },
    {
      "cell_type": "code",
      "metadata": {
        "id": "2ajlJYv6wKni"
      },
      "source": [
        "def my_function(**xyz):\n",
        "  print(\"His last name is \" + xyz[\"lname\"])\n",
        "\n",
        "my_function(fname = \"Thiago\", age= 39, location=\"Brazil\", lname = \"Carvalho\")"
      ],
      "execution_count": null,
      "outputs": []
    },
    {
      "cell_type": "code",
      "metadata": {
        "id": "kgkVBbEZywLj"
      },
      "source": [
        "def favourite_colors(**kwargs):\n",
        "    for person, color in kwargs.items():\n",
        "        print(f\"{person.title()}'s favourite color is {color}\")\n",
        "\n",
        "\n",
        "favourite_colors(Milton='blue', pricila='orange', BRUNO='grey', Elis ='white')"
      ],
      "execution_count": null,
      "outputs": []
    },
    {
      "cell_type": "code",
      "metadata": {
        "id": "yCrCNaFjywCc"
      },
      "source": [
        "def sum_multiple_numbers(a, b, c, **kwargs):\n",
        "    print(a + b + c)\n",
        "\n",
        "\n",
        "listA = [1, 2, 3]\n",
        "tupleA = (1, 2, 3)\n",
        "setA = {1, 2, 3}\n",
        "\n",
        "\n",
        "sum_multiple_numbers(*listA)\n",
        "sum_multiple_numbers(*tupleA)\n",
        "sum_multiple_numbers(*setA)\n",
        "\n",
        "dictA = dict(a=1, b=2, c=3)\n",
        "sum_multiple_numbers(**dictA)"
      ],
      "execution_count": null,
      "outputs": []
    },
    {
      "cell_type": "code",
      "metadata": {
        "id": "pBRghegSyv4X"
      },
      "source": [
        "def calculate_price(value, **any): #any is the kwargs... we can name it as we want as long we put ** before it\n",
        "    tax_percentage = any.get('tax_percentage')\n",
        "    discount = any.get('discount')\n",
        "    if tax_percentage:\n",
        "        value += value * (tax_percentage / 100)\n",
        "    if discount:\n",
        "        value -= discount\n",
        "    return value\n",
        "\n",
        "\n",
        "final_price = calculate_price(100.0) # final price without taxes nor discount\n",
        "print(final_price)\n",
        "\n",
        "final_price = calculate_price(100.0, tax_percentage=7) # final price with taxes and no discount\n",
        "print(final_price)\n",
        "\n",
        "final_price = calculate_price(100.0, tax_percentage=7, discount=5.0) # final price with taxes and discount\n",
        "print(final_price)\n",
        "\n"
      ],
      "execution_count": null,
      "outputs": []
    },
    {
      "cell_type": "markdown",
      "metadata": {
        "id": "G-VdyVYl5dyz"
      },
      "source": [
        ""
      ]
    },
    {
      "cell_type": "markdown",
      "metadata": {
        "id": "HR4J6EKA-Fbk"
      },
      "source": [
        "##HANDLING FILES"
      ]
    },
    {
      "cell_type": "markdown",
      "metadata": {
        "id": "QbsAjd5V_zKY"
      },
      "source": [
        "### Opening Modes"
      ]
    },
    {
      "cell_type": "markdown",
      "metadata": {
        "id": "oADBg02E66lQ"
      },
      "source": [
        "The key function for working with files in Python is the open() function.\n",
        "\n",
        "The open() function takes two parameters **filename**, and **mode**.\n",
        "\n",
        "* MODES for opening a file:\n",
        "\n",
        "```\n",
        "\"r\" - Read - Default value. Opens a file for reading, error if the file does not exist\n",
        "\n",
        "\"a\" - Append - Opens a file for appending, creates the file if it does not exist\n",
        "\n",
        "\"w\" - Write - Opens a file for writing, creates the file if it does not exist\n",
        "\n",
        "\"x\" - Create - Creates the specified file, returns an error if the file exists\n",
        "\n",
        "\"+\" - Opens a file for updating (reading and writing)\n",
        "```\n",
        "\n",
        "* In addition you can specify if the file should be handled as binary or text mode\n",
        "\n",
        "```\n",
        "\"t\" - Text - Default value. Text mode\n",
        "\n",
        "\"b\" - Binary - Binary mode (e.g. images)\n",
        "```"
      ]
    },
    {
      "cell_type": "markdown",
      "metadata": {
        "id": "WIzwdj8Q6aeb"
      },
      "source": [
        "####Syntax\n",
        "To open a file for reading it is enough to specify the name of the file:\n",
        "```\n",
        "f = open(\"demofile.txt\")\n",
        "```\n",
        "The code above is the same as:\n",
        "```\n",
        "f = open(\"demofile.txt\", \"rt\")\n",
        "```\n",
        "Because \"r\" for read, and \"t\" for text are the default values, you do not need to specify them."
      ]
    },
    {
      "cell_type": "markdown",
      "metadata": {
        "id": "6k5K29A-6G65"
      },
      "source": [
        "###A) Reading a file\n",
        "\n"
      ]
    },
    {
      "cell_type": "code",
      "metadata": {
        "id": "bRUgE0B_9tfX"
      },
      "source": [
        "f = open(\"/File.txt\", \"r\")\n",
        "print(f.read())"
      ],
      "execution_count": null,
      "outputs": []
    },
    {
      "cell_type": "code",
      "metadata": {
        "id": "vzHBFcC8-D5W"
      },
      "source": [
        "#Return the 5 first characters of the file:\n",
        "f = open(\"/File.txt\", \"r\")\n",
        "print(f.read(5))"
      ],
      "execution_count": null,
      "outputs": []
    },
    {
      "cell_type": "code",
      "metadata": {
        "id": "zVNVUZyN-OQH"
      },
      "source": [
        "#You can return one line by using the readline():\n",
        "f = open(\"/File.txt\", \"r\")\n",
        "print(f.readline())\n",
        "print(f.readline())"
      ],
      "execution_count": null,
      "outputs": []
    },
    {
      "cell_type": "code",
      "metadata": {
        "id": "Y6j4UkD--6Dl"
      },
      "source": [
        "#By looping through the lines of the file, you can read the whole file, line by line:\n",
        "f = open(\"/File.txt\", \"r\")\n",
        "for x in f:\n",
        "  print(x)"
      ],
      "execution_count": null,
      "outputs": []
    },
    {
      "cell_type": "markdown",
      "metadata": {
        "id": "hQZVyQe26KGx"
      },
      "source": [
        "###B) Closing a file"
      ]
    },
    {
      "cell_type": "code",
      "metadata": {
        "id": "HBNLxzri5zT6"
      },
      "source": [
        "#It is a good practice to always close the file when you are done with it.\n",
        "f = open(\"/File.txt\", \"r\")\n",
        "print(f.readline())\n",
        "f.close()"
      ],
      "execution_count": null,
      "outputs": []
    },
    {
      "cell_type": "markdown",
      "metadata": {
        "id": "9pWu7vPh6Mcm"
      },
      "source": [
        "###C) Writing, Creating and deleting files"
      ]
    },
    {
      "cell_type": "markdown",
      "metadata": {
        "id": "cHAOsH0fALwD"
      },
      "source": [
        "####>>Appending"
      ]
    },
    {
      "cell_type": "code",
      "metadata": {
        "id": "2q3rqFaH_ttn"
      },
      "source": [
        "f = open(\"/File.txt\", \"a\")\n",
        "f.write(\"Appending: Now the file has more content!\")\n",
        "f.close()\n",
        "\n",
        "#open and read the file after the appending:\n",
        "f = open(\"/File.txt\", \"r\")\n",
        "print(f.read())"
      ],
      "execution_count": null,
      "outputs": []
    },
    {
      "cell_type": "markdown",
      "metadata": {
        "id": "K8BqamN5AUdb"
      },
      "source": [
        "####>>Writing"
      ]
    },
    {
      "cell_type": "markdown",
      "metadata": {
        "id": "Ck-DizUPA4Ur"
      },
      "source": [
        "The \"w\" method will overwrite the entire file."
      ]
    },
    {
      "cell_type": "code",
      "metadata": {
        "id": "kaVOTSUkAU-_"
      },
      "source": [
        "f = open(\"/File.txt\", \"w\")\n",
        "f.write(\"Ops! I have deleted the content!\")\n",
        "f.close()\n",
        "\n",
        "#open and read the file after the overwriting:\n",
        "f = open(\"/File.txt\", \"r\")\n",
        "print(f.read())"
      ],
      "execution_count": null,
      "outputs": []
    },
    {
      "cell_type": "code",
      "metadata": {
        "id": "is9k6DFrBIbX"
      },
      "source": [
        "#rewriting the original txt \n",
        "f = open(\"/File.txt\", \"w\")\n",
        "f.write(\n",
        "\"\"\"\n",
        "    I am learning essential programming in Python\n",
        "    This is helping me to become an expert in Python.\n",
        "    Right now, I am learning how to work with files!\n",
        "    \"\"\")\n",
        "f.close()\n",
        "\n",
        "#open and read the file after the appending:\n",
        "f = open(\"/File.txt\", \"r\")\n",
        "print(f.read())"
      ],
      "execution_count": null,
      "outputs": []
    },
    {
      "cell_type": "markdown",
      "metadata": {
        "id": "SxrlBBOECb4r"
      },
      "source": [
        "####>>Creating a new file"
      ]
    },
    {
      "cell_type": "code",
      "metadata": {
        "id": "a5L48qcECTy6"
      },
      "source": [
        "#Create a file called \"myfile.txt\":\n",
        "\n",
        "f = open(\"/myfile.txt\", \"x\")"
      ],
      "execution_count": null,
      "outputs": []
    },
    {
      "cell_type": "markdown",
      "metadata": {
        "id": "k-YOJYbKBG7w"
      },
      "source": [
        "####>>Deleting a file"
      ]
    },
    {
      "cell_type": "code",
      "metadata": {
        "id": "jHwNE881D9Zt"
      },
      "source": [
        "#\n",
        "import os\n",
        "if os.path.exists(\"/myfile.txt\"):\n",
        "  print(\"The file exists\")\n",
        "else:\n",
        "  print(\"The file does not exist\") #if it doesn't exist run the previous step"
      ],
      "execution_count": null,
      "outputs": []
    },
    {
      "cell_type": "code",
      "metadata": {
        "id": "V1ghwFB9DbYj"
      },
      "source": [
        "#Remove the file \"myfile.txt\":\n",
        "\n",
        "import os\n",
        "os.remove(\"/myfile.txt\")"
      ],
      "execution_count": null,
      "outputs": []
    },
    {
      "cell_type": "markdown",
      "metadata": {
        "id": "WjZgYHgLF70X"
      },
      "source": [
        "###D) seek and tell"
      ]
    },
    {
      "cell_type": "markdown",
      "metadata": {
        "id": "ej9cNJ45GERr"
      },
      "source": [
        "We can change our current file cursor (position) using the seek() method. Similarly, the tell() method returns our current position (in number of bytes)."
      ]
    },
    {
      "cell_type": "code",
      "metadata": {
        "id": "eHOAwVKHGA6G"
      },
      "source": [
        "f = open(\"/File.txt\", \"r\")\n",
        "f.tell()    # get the current file position"
      ],
      "execution_count": null,
      "outputs": []
    },
    {
      "cell_type": "code",
      "metadata": {
        "id": "_nKynlDxHU1e"
      },
      "source": [
        "f.seek(10)   # bring file cursor to  position 10"
      ],
      "execution_count": null,
      "outputs": []
    },
    {
      "cell_type": "markdown",
      "metadata": {
        "id": "hkARzNThuyAc"
      },
      "source": [
        "#Sources:\n",
        "##### Geek University - Udemy Course - Programação em Python Essencial\n",
        "\n",
        "##### Programiz.com\n",
        "\n",
        "##### w3schools.com\n",
        "\n",
        "##### Python Crash Course - part 1\n",
        "\n",
        "##### medium.com/rafaeltardivo"
      ]
    }
  ]
}